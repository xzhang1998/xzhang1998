{
 "cells": [
  {
   "cell_type": "code",
   "execution_count": 1,
   "metadata": {},
   "outputs": [],
   "source": [
    "import pandas as pd\n",
    "import numpy as np\n",
    "import matplotlib.pyplot as plt\n",
    "import seaborn as sns\n",
    "from collections import OrderedDict\n",
    "\n",
    "from imblearn.pipeline import Pipeline \n",
    "from imblearn.under_sampling import RandomUnderSampler \n",
    "from imblearn.over_sampling import RandomOverSampler\n",
    "from sklearn.impute import SimpleImputer\n",
    "from sklearn.model_selection import cross_val_score\n",
    "from sklearn.preprocessing import MinMaxScaler\n",
    "from sklearn.neighbors import KNeighborsClassifier\n",
    "from sklearn.ensemble import RandomForestClassifier, AdaBoostClassifier, GradientBoostingClassifier\n",
    "from sklearn.linear_model import LogisticRegression\n",
    "from sklearn.tree import DecisionTreeClassifier\n",
    "from sklearn.model_selection import cross_val_score\n",
    "from sklearn.model_selection import GridSearchCV\n",
    "\n",
    "from sklearn.metrics import plot_confusion_matrix\n",
    "from sklearn.metrics import accuracy_score\n",
    "from sklearn.metrics import precision_score\n",
    "from sklearn.metrics import recall_score\n",
    "from sklearn.metrics import f1_score\n",
    "from sklearn.metrics import roc_auc_score"
   ]
  },
  {
   "cell_type": "code",
   "execution_count": 2,
   "metadata": {},
   "outputs": [],
   "source": [
    "aisles = pd.read_csv('./data/aisles.csv')\n",
    "departments = pd.read_csv('./data/departments.csv')\n",
    "order_products_prior = pd.read_csv('./data/order_products_prior.csv')\n",
    "order_products_train = pd.read_csv('./data/order_products_train.csv')\n",
    "orders = pd.read_csv('./data/orders.csv')\n",
    "products = pd.read_csv('./data/products.csv')"
   ]
  },
  {
   "cell_type": "code",
   "execution_count": 3,
   "metadata": {},
   "outputs": [
    {
     "name": "stdout",
     "output_type": "stream",
     "text": [
      "(134, 2)\n",
      "(21, 2)\n",
      "(793924, 4)\n",
      "(53704, 4)\n",
      "(82683, 7)\n",
      "(49688, 4)\n"
     ]
    }
   ],
   "source": [
    "# look at the shape of all data\n",
    "print(aisles.shape)\n",
    "print(departments.shape)\n",
    "print(order_products_prior.shape)\n",
    "print(order_products_train.shape)\n",
    "print(orders.shape)\n",
    "print(products.shape)"
   ]
  },
  {
   "cell_type": "code",
   "execution_count": 4,
   "metadata": {},
   "outputs": [
    {
     "data": {
      "text/html": [
       "<div>\n",
       "<style scoped>\n",
       "    .dataframe tbody tr th:only-of-type {\n",
       "        vertical-align: middle;\n",
       "    }\n",
       "\n",
       "    .dataframe tbody tr th {\n",
       "        vertical-align: top;\n",
       "    }\n",
       "\n",
       "    .dataframe thead th {\n",
       "        text-align: right;\n",
       "    }\n",
       "</style>\n",
       "<table border=\"1\" class=\"dataframe\">\n",
       "  <thead>\n",
       "    <tr style=\"text-align: right;\">\n",
       "      <th></th>\n",
       "      <th>aisle_id</th>\n",
       "      <th>aisle</th>\n",
       "    </tr>\n",
       "  </thead>\n",
       "  <tbody>\n",
       "    <tr>\n",
       "      <th>0</th>\n",
       "      <td>1</td>\n",
       "      <td>prepared soups salads</td>\n",
       "    </tr>\n",
       "    <tr>\n",
       "      <th>1</th>\n",
       "      <td>2</td>\n",
       "      <td>specialty cheeses</td>\n",
       "    </tr>\n",
       "    <tr>\n",
       "      <th>2</th>\n",
       "      <td>3</td>\n",
       "      <td>energy granola bars</td>\n",
       "    </tr>\n",
       "    <tr>\n",
       "      <th>3</th>\n",
       "      <td>4</td>\n",
       "      <td>instant foods</td>\n",
       "    </tr>\n",
       "    <tr>\n",
       "      <th>4</th>\n",
       "      <td>5</td>\n",
       "      <td>marinades meat preparation</td>\n",
       "    </tr>\n",
       "  </tbody>\n",
       "</table>\n",
       "</div>"
      ],
      "text/plain": [
       "   aisle_id                       aisle\n",
       "0         1       prepared soups salads\n",
       "1         2           specialty cheeses\n",
       "2         3         energy granola bars\n",
       "3         4               instant foods\n",
       "4         5  marinades meat preparation"
      ]
     },
     "execution_count": 4,
     "metadata": {},
     "output_type": "execute_result"
    }
   ],
   "source": [
    "aisles.head()"
   ]
  },
  {
   "cell_type": "code",
   "execution_count": 5,
   "metadata": {},
   "outputs": [
    {
     "data": {
      "text/html": [
       "<div>\n",
       "<style scoped>\n",
       "    .dataframe tbody tr th:only-of-type {\n",
       "        vertical-align: middle;\n",
       "    }\n",
       "\n",
       "    .dataframe tbody tr th {\n",
       "        vertical-align: top;\n",
       "    }\n",
       "\n",
       "    .dataframe thead th {\n",
       "        text-align: right;\n",
       "    }\n",
       "</style>\n",
       "<table border=\"1\" class=\"dataframe\">\n",
       "  <thead>\n",
       "    <tr style=\"text-align: right;\">\n",
       "      <th></th>\n",
       "      <th>department_id</th>\n",
       "      <th>department</th>\n",
       "    </tr>\n",
       "  </thead>\n",
       "  <tbody>\n",
       "    <tr>\n",
       "      <th>0</th>\n",
       "      <td>1</td>\n",
       "      <td>frozen</td>\n",
       "    </tr>\n",
       "    <tr>\n",
       "      <th>1</th>\n",
       "      <td>2</td>\n",
       "      <td>other</td>\n",
       "    </tr>\n",
       "    <tr>\n",
       "      <th>2</th>\n",
       "      <td>3</td>\n",
       "      <td>bakery</td>\n",
       "    </tr>\n",
       "    <tr>\n",
       "      <th>3</th>\n",
       "      <td>4</td>\n",
       "      <td>produce</td>\n",
       "    </tr>\n",
       "    <tr>\n",
       "      <th>4</th>\n",
       "      <td>5</td>\n",
       "      <td>alcohol</td>\n",
       "    </tr>\n",
       "  </tbody>\n",
       "</table>\n",
       "</div>"
      ],
      "text/plain": [
       "   department_id department\n",
       "0              1     frozen\n",
       "1              2      other\n",
       "2              3     bakery\n",
       "3              4    produce\n",
       "4              5    alcohol"
      ]
     },
     "execution_count": 5,
     "metadata": {},
     "output_type": "execute_result"
    }
   ],
   "source": [
    "departments.head()"
   ]
  },
  {
   "cell_type": "code",
   "execution_count": 6,
   "metadata": {},
   "outputs": [
    {
     "data": {
      "text/html": [
       "<div>\n",
       "<style scoped>\n",
       "    .dataframe tbody tr th:only-of-type {\n",
       "        vertical-align: middle;\n",
       "    }\n",
       "\n",
       "    .dataframe tbody tr th {\n",
       "        vertical-align: top;\n",
       "    }\n",
       "\n",
       "    .dataframe thead th {\n",
       "        text-align: right;\n",
       "    }\n",
       "</style>\n",
       "<table border=\"1\" class=\"dataframe\">\n",
       "  <thead>\n",
       "    <tr style=\"text-align: right;\">\n",
       "      <th></th>\n",
       "      <th>order_id</th>\n",
       "      <th>product_id</th>\n",
       "      <th>add_to_cart_order</th>\n",
       "      <th>reordered</th>\n",
       "    </tr>\n",
       "  </thead>\n",
       "  <tbody>\n",
       "    <tr>\n",
       "      <th>0</th>\n",
       "      <td>12</td>\n",
       "      <td>30597</td>\n",
       "      <td>1</td>\n",
       "      <td>1</td>\n",
       "    </tr>\n",
       "    <tr>\n",
       "      <th>1</th>\n",
       "      <td>12</td>\n",
       "      <td>15221</td>\n",
       "      <td>2</td>\n",
       "      <td>1</td>\n",
       "    </tr>\n",
       "    <tr>\n",
       "      <th>2</th>\n",
       "      <td>12</td>\n",
       "      <td>43772</td>\n",
       "      <td>3</td>\n",
       "      <td>1</td>\n",
       "    </tr>\n",
       "    <tr>\n",
       "      <th>3</th>\n",
       "      <td>12</td>\n",
       "      <td>37886</td>\n",
       "      <td>4</td>\n",
       "      <td>1</td>\n",
       "    </tr>\n",
       "    <tr>\n",
       "      <th>4</th>\n",
       "      <td>12</td>\n",
       "      <td>37215</td>\n",
       "      <td>5</td>\n",
       "      <td>0</td>\n",
       "    </tr>\n",
       "  </tbody>\n",
       "</table>\n",
       "</div>"
      ],
      "text/plain": [
       "   order_id  product_id  add_to_cart_order  reordered\n",
       "0        12       30597                  1          1\n",
       "1        12       15221                  2          1\n",
       "2        12       43772                  3          1\n",
       "3        12       37886                  4          1\n",
       "4        12       37215                  5          0"
      ]
     },
     "execution_count": 6,
     "metadata": {},
     "output_type": "execute_result"
    }
   ],
   "source": [
    "order_products_prior.head()"
   ]
  },
  {
   "cell_type": "code",
   "execution_count": 7,
   "metadata": {},
   "outputs": [
    {
     "data": {
      "text/html": [
       "<div>\n",
       "<style scoped>\n",
       "    .dataframe tbody tr th:only-of-type {\n",
       "        vertical-align: middle;\n",
       "    }\n",
       "\n",
       "    .dataframe tbody tr th {\n",
       "        vertical-align: top;\n",
       "    }\n",
       "\n",
       "    .dataframe thead th {\n",
       "        text-align: right;\n",
       "    }\n",
       "</style>\n",
       "<table border=\"1\" class=\"dataframe\">\n",
       "  <thead>\n",
       "    <tr style=\"text-align: right;\">\n",
       "      <th></th>\n",
       "      <th>order_id</th>\n",
       "      <th>product_id</th>\n",
       "      <th>add_to_cart_order</th>\n",
       "      <th>reordered</th>\n",
       "    </tr>\n",
       "  </thead>\n",
       "  <tbody>\n",
       "    <tr>\n",
       "      <th>0</th>\n",
       "      <td>1077</td>\n",
       "      <td>13176</td>\n",
       "      <td>1</td>\n",
       "      <td>1</td>\n",
       "    </tr>\n",
       "    <tr>\n",
       "      <th>1</th>\n",
       "      <td>1077</td>\n",
       "      <td>39922</td>\n",
       "      <td>2</td>\n",
       "      <td>1</td>\n",
       "    </tr>\n",
       "    <tr>\n",
       "      <th>2</th>\n",
       "      <td>1077</td>\n",
       "      <td>5258</td>\n",
       "      <td>3</td>\n",
       "      <td>1</td>\n",
       "    </tr>\n",
       "    <tr>\n",
       "      <th>3</th>\n",
       "      <td>1077</td>\n",
       "      <td>21137</td>\n",
       "      <td>4</td>\n",
       "      <td>1</td>\n",
       "    </tr>\n",
       "    <tr>\n",
       "      <th>4</th>\n",
       "      <td>1119</td>\n",
       "      <td>6046</td>\n",
       "      <td>1</td>\n",
       "      <td>1</td>\n",
       "    </tr>\n",
       "  </tbody>\n",
       "</table>\n",
       "</div>"
      ],
      "text/plain": [
       "   order_id  product_id  add_to_cart_order  reordered\n",
       "0      1077       13176                  1          1\n",
       "1      1077       39922                  2          1\n",
       "2      1077        5258                  3          1\n",
       "3      1077       21137                  4          1\n",
       "4      1119        6046                  1          1"
      ]
     },
     "execution_count": 7,
     "metadata": {},
     "output_type": "execute_result"
    }
   ],
   "source": [
    "order_products_train.head()"
   ]
  },
  {
   "cell_type": "code",
   "execution_count": 8,
   "metadata": {},
   "outputs": [],
   "source": [
    "# order_products_prior.product_id.isin(order_products_train.product_id).value_counts()"
   ]
  },
  {
   "cell_type": "code",
   "execution_count": 9,
   "metadata": {},
   "outputs": [],
   "source": [
    "# orders[orders.eval_set=='prior'].groupby(['user_id','product_id'])['order_id'].count().sort_values(ascending=False)\n",
    "# 只留下user-product pair预测是否复购"
   ]
  },
  {
   "cell_type": "code",
   "execution_count": 10,
   "metadata": {},
   "outputs": [],
   "source": [
    "# prior_details = order_products_prior.merge(orders, on = 'order_id')\n",
    "# prior_details.groupby(['user_id','product_id'])['order_id'].count().sort_values(ascending=False)\n",
    "# 过去买过几次先忽略，直接为user-product_id pair标注未来是否复购。\n",
    "# 这里还没到构建feature阶段，只是在为每一个pair构建标签；\n",
    "# 未来构建feature也是按照user-product pair为其构建的，也是一个pair对应一组feature,其中会有一些aggregation feature"
   ]
  },
  {
   "cell_type": "code",
   "execution_count": 11,
   "metadata": {},
   "outputs": [
    {
     "data": {
      "text/html": [
       "<div>\n",
       "<style scoped>\n",
       "    .dataframe tbody tr th:only-of-type {\n",
       "        vertical-align: middle;\n",
       "    }\n",
       "\n",
       "    .dataframe tbody tr th {\n",
       "        vertical-align: top;\n",
       "    }\n",
       "\n",
       "    .dataframe thead th {\n",
       "        text-align: right;\n",
       "    }\n",
       "</style>\n",
       "<table border=\"1\" class=\"dataframe\">\n",
       "  <thead>\n",
       "    <tr style=\"text-align: right;\">\n",
       "      <th></th>\n",
       "      <th>order_id</th>\n",
       "      <th>user_id</th>\n",
       "      <th>eval_set</th>\n",
       "      <th>order_number</th>\n",
       "      <th>order_dow</th>\n",
       "      <th>order_hour_of_day</th>\n",
       "      <th>days_since_prior_order</th>\n",
       "    </tr>\n",
       "  </thead>\n",
       "  <tbody>\n",
       "    <tr>\n",
       "      <th>0</th>\n",
       "      <td>1363380</td>\n",
       "      <td>50</td>\n",
       "      <td>prior</td>\n",
       "      <td>1</td>\n",
       "      <td>3</td>\n",
       "      <td>9</td>\n",
       "      <td>NaN</td>\n",
       "    </tr>\n",
       "    <tr>\n",
       "      <th>1</th>\n",
       "      <td>3131103</td>\n",
       "      <td>50</td>\n",
       "      <td>prior</td>\n",
       "      <td>2</td>\n",
       "      <td>6</td>\n",
       "      <td>12</td>\n",
       "      <td>10.0</td>\n",
       "    </tr>\n",
       "    <tr>\n",
       "      <th>2</th>\n",
       "      <td>2197066</td>\n",
       "      <td>50</td>\n",
       "      <td>prior</td>\n",
       "      <td>3</td>\n",
       "      <td>1</td>\n",
       "      <td>13</td>\n",
       "      <td>9.0</td>\n",
       "    </tr>\n",
       "    <tr>\n",
       "      <th>3</th>\n",
       "      <td>3201640</td>\n",
       "      <td>50</td>\n",
       "      <td>prior</td>\n",
       "      <td>4</td>\n",
       "      <td>0</td>\n",
       "      <td>11</td>\n",
       "      <td>6.0</td>\n",
       "    </tr>\n",
       "    <tr>\n",
       "      <th>4</th>\n",
       "      <td>2756806</td>\n",
       "      <td>50</td>\n",
       "      <td>prior</td>\n",
       "      <td>5</td>\n",
       "      <td>4</td>\n",
       "      <td>14</td>\n",
       "      <td>11.0</td>\n",
       "    </tr>\n",
       "  </tbody>\n",
       "</table>\n",
       "</div>"
      ],
      "text/plain": [
       "   order_id  user_id eval_set  order_number  order_dow  order_hour_of_day  \\\n",
       "0   1363380       50    prior             1          3                  9   \n",
       "1   3131103       50    prior             2          6                 12   \n",
       "2   2197066       50    prior             3          1                 13   \n",
       "3   3201640       50    prior             4          0                 11   \n",
       "4   2756806       50    prior             5          4                 14   \n",
       "\n",
       "   days_since_prior_order  \n",
       "0                     NaN  \n",
       "1                    10.0  \n",
       "2                     9.0  \n",
       "3                     6.0  \n",
       "4                    11.0  "
      ]
     },
     "execution_count": 11,
     "metadata": {},
     "output_type": "execute_result"
    }
   ],
   "source": [
    "orders.head()"
   ]
  },
  {
   "cell_type": "code",
   "execution_count": 12,
   "metadata": {},
   "outputs": [],
   "source": [
    "# orders.sort_values(by=['user_id','days_since_prior_order'])"
   ]
  },
  {
   "cell_type": "code",
   "execution_count": 13,
   "metadata": {},
   "outputs": [
    {
     "data": {
      "text/html": [
       "<div>\n",
       "<style scoped>\n",
       "    .dataframe tbody tr th:only-of-type {\n",
       "        vertical-align: middle;\n",
       "    }\n",
       "\n",
       "    .dataframe tbody tr th {\n",
       "        vertical-align: top;\n",
       "    }\n",
       "\n",
       "    .dataframe thead th {\n",
       "        text-align: right;\n",
       "    }\n",
       "</style>\n",
       "<table border=\"1\" class=\"dataframe\">\n",
       "  <thead>\n",
       "    <tr style=\"text-align: right;\">\n",
       "      <th></th>\n",
       "      <th>product_id</th>\n",
       "      <th>product_name</th>\n",
       "      <th>aisle_id</th>\n",
       "      <th>department_id</th>\n",
       "    </tr>\n",
       "  </thead>\n",
       "  <tbody>\n",
       "    <tr>\n",
       "      <th>0</th>\n",
       "      <td>1</td>\n",
       "      <td>Chocolate Sandwich Cookies</td>\n",
       "      <td>61</td>\n",
       "      <td>19</td>\n",
       "    </tr>\n",
       "    <tr>\n",
       "      <th>1</th>\n",
       "      <td>2</td>\n",
       "      <td>All-Seasons Salt</td>\n",
       "      <td>104</td>\n",
       "      <td>13</td>\n",
       "    </tr>\n",
       "    <tr>\n",
       "      <th>2</th>\n",
       "      <td>3</td>\n",
       "      <td>Robust Golden Unsweetened Oolong Tea</td>\n",
       "      <td>94</td>\n",
       "      <td>7</td>\n",
       "    </tr>\n",
       "    <tr>\n",
       "      <th>3</th>\n",
       "      <td>4</td>\n",
       "      <td>Smart Ones Classic Favorites Mini Rigatoni Wit...</td>\n",
       "      <td>38</td>\n",
       "      <td>1</td>\n",
       "    </tr>\n",
       "    <tr>\n",
       "      <th>4</th>\n",
       "      <td>5</td>\n",
       "      <td>Green Chile Anytime Sauce</td>\n",
       "      <td>5</td>\n",
       "      <td>13</td>\n",
       "    </tr>\n",
       "  </tbody>\n",
       "</table>\n",
       "</div>"
      ],
      "text/plain": [
       "   product_id                                       product_name  aisle_id  \\\n",
       "0           1                         Chocolate Sandwich Cookies        61   \n",
       "1           2                                   All-Seasons Salt       104   \n",
       "2           3               Robust Golden Unsweetened Oolong Tea        94   \n",
       "3           4  Smart Ones Classic Favorites Mini Rigatoni Wit...        38   \n",
       "4           5                          Green Chile Anytime Sauce         5   \n",
       "\n",
       "   department_id  \n",
       "0             19  \n",
       "1             13  \n",
       "2              7  \n",
       "3              1  \n",
       "4             13  "
      ]
     },
     "execution_count": 13,
     "metadata": {},
     "output_type": "execute_result"
    }
   ],
   "source": [
    "products.head()"
   ]
  },
  {
   "cell_type": "markdown",
   "metadata": {},
   "source": [
    "# 1. Data Exploration\n",
    "## 1.1 Build order history table"
   ]
  },
  {
   "cell_type": "code",
   "execution_count": 14,
   "metadata": {},
   "outputs": [],
   "source": [
    "# Build prior order details table for data exploration\n",
    "prior_order_details = order_products_prior.merge(orders, on ='order_id')"
   ]
  },
  {
   "cell_type": "code",
   "execution_count": 15,
   "metadata": {},
   "outputs": [],
   "source": [
    "# convert day of week to string for visualization\n",
    "prior_order_details['order_dow']=prior_order_details['order_dow'].apply(lambda x:'Sunday' if x==0 else x)\n",
    "prior_order_details['order_dow']=prior_order_details['order_dow'].apply(lambda x:'Monday' if x==1 else x)\n",
    "prior_order_details['order_dow']=prior_order_details['order_dow'].apply(lambda x:'Tuesday' if x==2 else x)\n",
    "prior_order_details['order_dow']=prior_order_details['order_dow'].apply(lambda x:'Wednesday' if x==3 else x)\n",
    "prior_order_details['order_dow']=prior_order_details['order_dow'].apply(lambda x:'Thursday' if x==4 else x)\n",
    "prior_order_details['order_dow']=prior_order_details['order_dow'].apply(lambda x:'Friday' if x==5 else x)\n",
    "prior_order_details['order_dow']=prior_order_details['order_dow'].apply(lambda x:'Saturday' if x==6 else x)"
   ]
  },
  {
   "cell_type": "code",
   "execution_count": 16,
   "metadata": {},
   "outputs": [
    {
     "data": {
      "text/html": [
       "<div>\n",
       "<style scoped>\n",
       "    .dataframe tbody tr th:only-of-type {\n",
       "        vertical-align: middle;\n",
       "    }\n",
       "\n",
       "    .dataframe tbody tr th {\n",
       "        vertical-align: top;\n",
       "    }\n",
       "\n",
       "    .dataframe thead th {\n",
       "        text-align: right;\n",
       "    }\n",
       "</style>\n",
       "<table border=\"1\" class=\"dataframe\">\n",
       "  <thead>\n",
       "    <tr style=\"text-align: right;\">\n",
       "      <th></th>\n",
       "      <th>order_id</th>\n",
       "      <th>product_id</th>\n",
       "      <th>add_to_cart_order</th>\n",
       "      <th>reordered</th>\n",
       "      <th>user_id</th>\n",
       "      <th>eval_set</th>\n",
       "      <th>order_number</th>\n",
       "      <th>order_dow</th>\n",
       "      <th>order_hour_of_day</th>\n",
       "      <th>days_since_prior_order</th>\n",
       "    </tr>\n",
       "  </thead>\n",
       "  <tbody>\n",
       "    <tr>\n",
       "      <th>0</th>\n",
       "      <td>12</td>\n",
       "      <td>30597</td>\n",
       "      <td>1</td>\n",
       "      <td>1</td>\n",
       "      <td>152610</td>\n",
       "      <td>prior</td>\n",
       "      <td>22</td>\n",
       "      <td>Saturday</td>\n",
       "      <td>8</td>\n",
       "      <td>10.0</td>\n",
       "    </tr>\n",
       "    <tr>\n",
       "      <th>1</th>\n",
       "      <td>12</td>\n",
       "      <td>15221</td>\n",
       "      <td>2</td>\n",
       "      <td>1</td>\n",
       "      <td>152610</td>\n",
       "      <td>prior</td>\n",
       "      <td>22</td>\n",
       "      <td>Saturday</td>\n",
       "      <td>8</td>\n",
       "      <td>10.0</td>\n",
       "    </tr>\n",
       "    <tr>\n",
       "      <th>2</th>\n",
       "      <td>12</td>\n",
       "      <td>43772</td>\n",
       "      <td>3</td>\n",
       "      <td>1</td>\n",
       "      <td>152610</td>\n",
       "      <td>prior</td>\n",
       "      <td>22</td>\n",
       "      <td>Saturday</td>\n",
       "      <td>8</td>\n",
       "      <td>10.0</td>\n",
       "    </tr>\n",
       "    <tr>\n",
       "      <th>3</th>\n",
       "      <td>12</td>\n",
       "      <td>37886</td>\n",
       "      <td>4</td>\n",
       "      <td>1</td>\n",
       "      <td>152610</td>\n",
       "      <td>prior</td>\n",
       "      <td>22</td>\n",
       "      <td>Saturday</td>\n",
       "      <td>8</td>\n",
       "      <td>10.0</td>\n",
       "    </tr>\n",
       "    <tr>\n",
       "      <th>4</th>\n",
       "      <td>12</td>\n",
       "      <td>37215</td>\n",
       "      <td>5</td>\n",
       "      <td>0</td>\n",
       "      <td>152610</td>\n",
       "      <td>prior</td>\n",
       "      <td>22</td>\n",
       "      <td>Saturday</td>\n",
       "      <td>8</td>\n",
       "      <td>10.0</td>\n",
       "    </tr>\n",
       "  </tbody>\n",
       "</table>\n",
       "</div>"
      ],
      "text/plain": [
       "   order_id  product_id  add_to_cart_order  reordered  user_id eval_set  \\\n",
       "0        12       30597                  1          1   152610    prior   \n",
       "1        12       15221                  2          1   152610    prior   \n",
       "2        12       43772                  3          1   152610    prior   \n",
       "3        12       37886                  4          1   152610    prior   \n",
       "4        12       37215                  5          0   152610    prior   \n",
       "\n",
       "   order_number order_dow  order_hour_of_day  days_since_prior_order  \n",
       "0            22  Saturday                  8                    10.0  \n",
       "1            22  Saturday                  8                    10.0  \n",
       "2            22  Saturday                  8                    10.0  \n",
       "3            22  Saturday                  8                    10.0  \n",
       "4            22  Saturday                  8                    10.0  "
      ]
     },
     "execution_count": 16,
     "metadata": {},
     "output_type": "execute_result"
    }
   ],
   "source": [
    "prior_order_details.head()"
   ]
  },
  {
   "cell_type": "markdown",
   "metadata": {},
   "source": [
    "## 1.2 Visualize order frequency on DoW"
   ]
  },
  {
   "cell_type": "code",
   "execution_count": 17,
   "metadata": {},
   "outputs": [
    {
     "data": {
      "image/png": "[encoded data removed]",
      "text/plain": [
       "<Figure size 432x288 with 1 Axes>"
      ]
     },
     "metadata": {
      "needs_background": "light"
     },
     "output_type": "display_data"
    }
   ],
   "source": [
    "ax = sns.countplot(palette=[\"#FF8C00\",\"#FF0000\", \"#FFF0F5\",\"#D8BFD8\",\"#D3D3D3\",\"#FFD700\",\"#432371\"],x='order_dow',data=prior_order_details,order=['Monday','Tuesday','Wednesday','Thursday','Friday','Saturday','Sunday'])\n",
    "plt.title('Frequency of Orders on DoW')\n",
    "plt.ylabel('Number of Orders')\n",
    "plt.show()"
   ]
  },
  {
   "cell_type": "markdown",
   "metadata": {},
   "source": [
    "**Conclusion**: People buy things mostly on Sunday."
   ]
  },
  {
   "cell_type": "markdown",
   "metadata": {},
   "source": [
    "## 2.3 Visualize order frequency on HoD"
   ]
  },
  {
   "cell_type": "code",
   "execution_count": 18,
   "metadata": {},
   "outputs": [
    {
     "data": {
      "text/html": [
       "<div>\n",
       "<style scoped>\n",
       "    .dataframe tbody tr th:only-of-type {\n",
       "        vertical-align: middle;\n",
       "    }\n",
       "\n",
       "    .dataframe tbody tr th {\n",
       "        vertical-align: top;\n",
       "    }\n",
       "\n",
       "    .dataframe thead th {\n",
       "        text-align: right;\n",
       "    }\n",
       "</style>\n",
       "<table border=\"1\" class=\"dataframe\">\n",
       "  <thead>\n",
       "    <tr style=\"text-align: right;\">\n",
       "      <th></th>\n",
       "      <th>order_id</th>\n",
       "      <th>order_hour_of_day</th>\n",
       "    </tr>\n",
       "  </thead>\n",
       "  <tbody>\n",
       "    <tr>\n",
       "      <th>0</th>\n",
       "      <td>12</td>\n",
       "      <td>8</td>\n",
       "    </tr>\n",
       "    <tr>\n",
       "      <th>1</th>\n",
       "      <td>50</td>\n",
       "      <td>13</td>\n",
       "    </tr>\n",
       "    <tr>\n",
       "      <th>2</th>\n",
       "      <td>90</td>\n",
       "      <td>16</td>\n",
       "    </tr>\n",
       "    <tr>\n",
       "      <th>3</th>\n",
       "      <td>236</td>\n",
       "      <td>12</td>\n",
       "    </tr>\n",
       "    <tr>\n",
       "      <th>4</th>\n",
       "      <td>252</td>\n",
       "      <td>18</td>\n",
       "    </tr>\n",
       "    <tr>\n",
       "      <th>...</th>\n",
       "      <td>...</td>\n",
       "      <td>...</td>\n",
       "    </tr>\n",
       "    <tr>\n",
       "      <th>82678</th>\n",
       "      <td>3420895</td>\n",
       "      <td>19</td>\n",
       "    </tr>\n",
       "    <tr>\n",
       "      <th>82679</th>\n",
       "      <td>3420966</td>\n",
       "      <td>10</td>\n",
       "    </tr>\n",
       "    <tr>\n",
       "      <th>82680</th>\n",
       "      <td>3420996</td>\n",
       "      <td>9</td>\n",
       "    </tr>\n",
       "    <tr>\n",
       "      <th>82681</th>\n",
       "      <td>3421018</td>\n",
       "      <td>9</td>\n",
       "    </tr>\n",
       "    <tr>\n",
       "      <th>82682</th>\n",
       "      <td>3421029</td>\n",
       "      <td>17</td>\n",
       "    </tr>\n",
       "  </tbody>\n",
       "</table>\n",
       "<p>82683 rows × 2 columns</p>\n",
       "</div>"
      ],
      "text/plain": [
       "       order_id  order_hour_of_day\n",
       "0            12                  8\n",
       "1            50                 13\n",
       "2            90                 16\n",
       "3           236                 12\n",
       "4           252                 18\n",
       "...         ...                ...\n",
       "82678   3420895                 19\n",
       "82679   3420966                 10\n",
       "82680   3420996                  9\n",
       "82681   3421018                  9\n",
       "82682   3421029                 17\n",
       "\n",
       "[82683 rows x 2 columns]"
      ]
     },
     "execution_count": 18,
     "metadata": {},
     "output_type": "execute_result"
    }
   ],
   "source": [
    "# involves quality check: in case their are multiple HoD in the same order\n",
    "order_hours_counts = orders.groupby('order_id')['order_hour_of_day'].mean().reset_index()\n",
    "order_hours_counts"
   ]
  },
  {
   "cell_type": "markdown",
   "metadata": {},
   "source": [
    "> The number of rows is the same with the number of rows of orders table"
   ]
  },
  {
   "cell_type": "code",
   "execution_count": 19,
   "metadata": {},
   "outputs": [
    {
     "data": {
      "image/png": "[encoded data removed]",
      "text/plain": [
       "<Figure size 432x288 with 1 Axes>"
      ]
     },
     "metadata": {
      "needs_background": "light"
     },
     "output_type": "display_data"
    }
   ],
   "source": [
    "# order_hod_stats = order_hours_counts['order_hour_of_day']\n",
    "sns.countplot(x='order_hour_of_day',data=order_hours_counts)\n",
    "plt.title(\"Order Hour\")\n",
    "plt.ylabel(\"Number of Order\")\n",
    "plt.xlabel('Order Time (hours)')\n",
    "plt.show()"
   ]
  },
  {
   "cell_type": "markdown",
   "metadata": {},
   "source": [
    "**Conclusions**: Most frequent order time is from 8 a.m. to 6 p.m."
   ]
  },
  {
   "cell_type": "markdown",
   "metadata": {},
   "source": [
    "## 1.4 Reorder Pattern Analysis (upon time)"
   ]
  },
  {
   "cell_type": "code",
   "execution_count": 20,
   "metadata": {},
   "outputs": [
    {
     "data": {
      "text/plain": [
       "Text(0.5, 33.0, 'Hours')"
      ]
     },
     "execution_count": 20,
     "metadata": {},
     "output_type": "execute_result"
    },
    {
     "data": {
      "image/png": "[encoded data removed]",
      "text/plain": [
       "<Figure size 864x432 with 2 Axes>"
      ]
     },
     "metadata": {
      "needs_background": "light"
     },
     "output_type": "display_data"
    }
   ],
   "source": [
    "reorder_table = prior_order_details.groupby([\"order_dow\", \"order_hour_of_day\"])[\"reordered\"].mean().reset_index()\n",
    "reorder_heatmap = reorder_table.pivot('order_dow','order_hour_of_day','reordered')\n",
    "plt.figure(figsize=(12,6))\n",
    "sns.heatmap(reorder_heatmap,cmap='Blues')\n",
    "plt.title('Reorder Ratio')\n",
    "plt.ylabel('')\n",
    "plt.xlabel('Hours')"
   ]
  },
  {
   "cell_type": "markdown",
   "metadata": {},
   "source": [
    "**Conclusions**: Products bought during weekdays and early hours of a day are more likely to be reordered."
   ]
  },
  {
   "cell_type": "markdown",
   "metadata": {},
   "source": [
    "## 1.5 The top 3 popular products"
   ]
  },
  {
   "cell_type": "code",
   "execution_count": 21,
   "metadata": {},
   "outputs": [
    {
     "data": {
      "text/plain": [
       "product_name\n",
       "Banana                    10951\n",
       "Bag of Organic Bananas     9424\n",
       "Organic Baby Spinach       6028\n",
       "Name: product_id, dtype: int64"
      ]
     },
     "execution_count": 21,
     "metadata": {},
     "output_type": "execute_result"
    }
   ],
   "source": [
    "prior_products_details = order_products_prior.merge(products, on ='product_id')\n",
    "prior_products_details.groupby('product_name')['product_id'].count().sort_values(ascending=False).head(3)"
   ]
  },
  {
   "cell_type": "markdown",
   "metadata": {},
   "source": [
    "**Conclusion**: The three most popular products are: Banana, Bag of Organic Bananas, Organic Baby Spinach."
   ]
  },
  {
   "cell_type": "markdown",
   "metadata": {},
   "source": [
    "## 1.6 The top 3 popular aisles"
   ]
  },
  {
   "cell_type": "code",
   "execution_count": 22,
   "metadata": {},
   "outputs": [
    {
     "data": {
      "text/plain": [
       "aisle\n",
       "fresh fruits                  86351\n",
       "fresh vegetables              85062\n",
       "packaged vegetables fruits    43436\n",
       "Name: aisle_id, dtype: int64"
      ]
     },
     "execution_count": 22,
     "metadata": {},
     "output_type": "execute_result"
    }
   ],
   "source": [
    "prior_aisles_details = prior_products_details.merge(aisles,on='aisle_id')\n",
    "prior_aisles_details.groupby('aisle')['aisle_id'].count().sort_values(ascending=False).head(3)"
   ]
  },
  {
   "cell_type": "markdown",
   "metadata": {},
   "source": [
    "**Conclusion**: The three most popular aisles are: fresh fruits, fresh vegetables, packaged vegetables fruits."
   ]
  },
  {
   "cell_type": "markdown",
   "metadata": {},
   "source": [
    "## 1.7 The top 3 popular departments"
   ]
  },
  {
   "cell_type": "code",
   "execution_count": 23,
   "metadata": {},
   "outputs": [
    {
     "data": {
      "text/plain": [
       "department\n",
       "produce       231189\n",
       "dairy eggs    129910\n",
       "snacks         71685\n",
       "Name: department_id, dtype: int64"
      ]
     },
     "execution_count": 23,
     "metadata": {},
     "output_type": "execute_result"
    }
   ],
   "source": [
    "prior_departments_details = prior_products_details.merge(departments,on='department_id')\n",
    "prior_departments_details.groupby('department')['department_id'].count().sort_values(ascending=False).head(3)"
   ]
  },
  {
   "cell_type": "markdown",
   "metadata": {},
   "source": [
    "**Conclusion**: The three most popular departments are: produce, dairy eggs and snacks."
   ]
  },
  {
   "cell_type": "markdown",
   "metadata": {},
   "source": [
    "# 2. Data Quality Check\n",
    "## 2.1 Validate the days_since_prior_order column in orders"
   ]
  },
  {
   "cell_type": "code",
   "execution_count": 24,
   "metadata": {},
   "outputs": [
    {
     "data": {
      "text/html": [
       "<div>\n",
       "<style scoped>\n",
       "    .dataframe tbody tr th:only-of-type {\n",
       "        vertical-align: middle;\n",
       "    }\n",
       "\n",
       "    .dataframe tbody tr th {\n",
       "        vertical-align: top;\n",
       "    }\n",
       "\n",
       "    .dataframe thead th {\n",
       "        text-align: right;\n",
       "    }\n",
       "</style>\n",
       "<table border=\"1\" class=\"dataframe\">\n",
       "  <thead>\n",
       "    <tr style=\"text-align: right;\">\n",
       "      <th></th>\n",
       "      <th>order_id</th>\n",
       "      <th>user_id</th>\n",
       "      <th>eval_set</th>\n",
       "      <th>order_number</th>\n",
       "      <th>order_dow</th>\n",
       "      <th>order_hour_of_day</th>\n",
       "      <th>days_since_prior_order</th>\n",
       "    </tr>\n",
       "  </thead>\n",
       "  <tbody>\n",
       "    <tr>\n",
       "      <th>0</th>\n",
       "      <td>1363380</td>\n",
       "      <td>50</td>\n",
       "      <td>prior</td>\n",
       "      <td>1</td>\n",
       "      <td>3</td>\n",
       "      <td>9</td>\n",
       "      <td>NaN</td>\n",
       "    </tr>\n",
       "    <tr>\n",
       "      <th>1</th>\n",
       "      <td>3131103</td>\n",
       "      <td>50</td>\n",
       "      <td>prior</td>\n",
       "      <td>2</td>\n",
       "      <td>6</td>\n",
       "      <td>12</td>\n",
       "      <td>10.0</td>\n",
       "    </tr>\n",
       "    <tr>\n",
       "      <th>2</th>\n",
       "      <td>2197066</td>\n",
       "      <td>50</td>\n",
       "      <td>prior</td>\n",
       "      <td>3</td>\n",
       "      <td>1</td>\n",
       "      <td>13</td>\n",
       "      <td>9.0</td>\n",
       "    </tr>\n",
       "    <tr>\n",
       "      <th>3</th>\n",
       "      <td>3201640</td>\n",
       "      <td>50</td>\n",
       "      <td>prior</td>\n",
       "      <td>4</td>\n",
       "      <td>0</td>\n",
       "      <td>11</td>\n",
       "      <td>6.0</td>\n",
       "    </tr>\n",
       "    <tr>\n",
       "      <th>4</th>\n",
       "      <td>2756806</td>\n",
       "      <td>50</td>\n",
       "      <td>prior</td>\n",
       "      <td>5</td>\n",
       "      <td>4</td>\n",
       "      <td>14</td>\n",
       "      <td>11.0</td>\n",
       "    </tr>\n",
       "  </tbody>\n",
       "</table>\n",
       "</div>"
      ],
      "text/plain": [
       "   order_id  user_id eval_set  order_number  order_dow  order_hour_of_day  \\\n",
       "0   1363380       50    prior             1          3                  9   \n",
       "1   3131103       50    prior             2          6                 12   \n",
       "2   2197066       50    prior             3          1                 13   \n",
       "3   3201640       50    prior             4          0                 11   \n",
       "4   2756806       50    prior             5          4                 14   \n",
       "\n",
       "   days_since_prior_order  \n",
       "0                     NaN  \n",
       "1                    10.0  \n",
       "2                     9.0  \n",
       "3                     6.0  \n",
       "4                    11.0  "
      ]
     },
     "execution_count": 24,
     "metadata": {},
     "output_type": "execute_result"
    }
   ],
   "source": [
    "orders.head()"
   ]
  },
  {
   "cell_type": "code",
   "execution_count": 25,
   "metadata": {},
   "outputs": [
    {
     "data": {
      "text/plain": [
       "5000"
      ]
     },
     "execution_count": 25,
     "metadata": {},
     "output_type": "execute_result"
    }
   ],
   "source": [
    "# NaN count in ['days_since_prior_order'] column\n",
    "orders[orders['days_since_prior_order'].isnull()==True]['order_id'].count()"
   ]
  },
  {
   "cell_type": "code",
   "execution_count": 26,
   "metadata": {},
   "outputs": [
    {
     "data": {
      "text/plain": [
       "5000"
      ]
     },
     "execution_count": 26,
     "metadata": {},
     "output_type": "execute_result"
    }
   ],
   "source": [
    "# order_number ==1 count\n",
    "orders[orders['order_number']==1]['order_id'].count()"
   ]
  },
  {
   "cell_type": "code",
   "execution_count": 27,
   "metadata": {},
   "outputs": [
    {
     "data": {
      "text/plain": [
       "5000"
      ]
     },
     "execution_count": 27,
     "metadata": {},
     "output_type": "execute_result"
    }
   ],
   "source": [
    "# user_id count\n",
    "orders.groupby('user_id').count().shape[0]"
   ]
  },
  {
   "cell_type": "markdown",
   "metadata": {},
   "source": [
    "**Conclusion**: From the above analysis, we can conclude that the number of first bought products and order number are aligned, and are the same as the number of users."
   ]
  },
  {
   "cell_type": "markdown",
   "metadata": {},
   "source": [
    "## 2.2.Validate Valid orders matching in the prior table"
   ]
  },
  {
   "cell_type": "code",
   "execution_count": 28,
   "metadata": {},
   "outputs": [
    {
     "data": {
      "text/html": [
       "<div>\n",
       "<style scoped>\n",
       "    .dataframe tbody tr th:only-of-type {\n",
       "        vertical-align: middle;\n",
       "    }\n",
       "\n",
       "    .dataframe tbody tr th {\n",
       "        vertical-align: top;\n",
       "    }\n",
       "\n",
       "    .dataframe thead th {\n",
       "        text-align: right;\n",
       "    }\n",
       "</style>\n",
       "<table border=\"1\" class=\"dataframe\">\n",
       "  <thead>\n",
       "    <tr style=\"text-align: right;\">\n",
       "      <th></th>\n",
       "      <th>eval_set</th>\n",
       "      <th>order_id</th>\n",
       "    </tr>\n",
       "  </thead>\n",
       "  <tbody>\n",
       "    <tr>\n",
       "      <th>0</th>\n",
       "      <td>prior</td>\n",
       "      <td>77683</td>\n",
       "    </tr>\n",
       "    <tr>\n",
       "      <th>1</th>\n",
       "      <td>train</td>\n",
       "      <td>5000</td>\n",
       "    </tr>\n",
       "  </tbody>\n",
       "</table>\n",
       "</div>"
      ],
      "text/plain": [
       "  eval_set  order_id\n",
       "0    prior     77683\n",
       "1    train      5000"
      ]
     },
     "execution_count": 28,
     "metadata": {},
     "output_type": "execute_result"
    }
   ],
   "source": [
    "orders.groupby(['eval_set'], as_index=False).agg(OrderedDict([('order_id','nunique')]))\n",
    "# .agg(): diy different aggregation functions for different columns\n",
    "# OrderedDict: diy the order of data and how they are presented"
   ]
  },
  {
   "cell_type": "code",
   "execution_count": 29,
   "metadata": {},
   "outputs": [
    {
     "data": {
      "text/plain": [
       "77683"
      ]
     },
     "execution_count": 29,
     "metadata": {},
     "output_type": "execute_result"
    }
   ],
   "source": [
    "# check the number of order_id in prior table \n",
    "order_products_prior['order_id'].nunique()"
   ]
  },
  {
   "cell_type": "code",
   "execution_count": 30,
   "metadata": {},
   "outputs": [
    {
     "data": {
      "text/plain": [
       "77683"
      ]
     },
     "execution_count": 30,
     "metadata": {},
     "output_type": "execute_result"
    }
   ],
   "source": [
    "# check the overlap between tables\n",
    "order_products_prior[order_products_prior['order_id'].isin(orders[orders.eval_set=='prior']['order_id'])].order_id.nunique()"
   ]
  },
  {
   "cell_type": "markdown",
   "metadata": {},
   "source": [
    "**Conclusion**: There are no difference regarding the prior order_id and its numbers between two tables."
   ]
  },
  {
   "cell_type": "markdown",
   "metadata": {},
   "source": [
    "## 2.3. Validate orders matching in the train table"
   ]
  },
  {
   "cell_type": "code",
   "execution_count": 31,
   "metadata": {},
   "outputs": [
    {
     "data": {
      "text/plain": [
       "5000"
      ]
     },
     "execution_count": 31,
     "metadata": {},
     "output_type": "execute_result"
    }
   ],
   "source": [
    "# check the number of order_id in prior table \n",
    "order_products_train['order_id'].nunique()"
   ]
  },
  {
   "cell_type": "code",
   "execution_count": 32,
   "metadata": {},
   "outputs": [
    {
     "data": {
      "text/plain": [
       "5000"
      ]
     },
     "execution_count": 32,
     "metadata": {},
     "output_type": "execute_result"
    }
   ],
   "source": [
    "# check the overlap between tables\n",
    "order_products_train[order_products_train['order_id'].isin(orders[orders.eval_set=='train']['order_id'])].order_id.nunique()"
   ]
  },
  {
   "cell_type": "markdown",
   "metadata": {},
   "source": [
    "**Conclusion**: There are no difference regarding the train order_id and its numbers between two tables."
   ]
  },
  {
   "cell_type": "markdown",
   "metadata": {},
   "source": [
    "## 2.4. Validate the order intersection between prior and train table"
   ]
  },
  {
   "cell_type": "code",
   "execution_count": 33,
   "metadata": {},
   "outputs": [
    {
     "data": {
      "text/plain": [
       "False    53704\n",
       "Name: order_id, dtype: int64"
      ]
     },
     "execution_count": 33,
     "metadata": {},
     "output_type": "execute_result"
    }
   ],
   "source": [
    "order_products_train.order_id.isin(order_products_prior.order_id).value_counts()"
   ]
  },
  {
   "cell_type": "markdown",
   "metadata": {},
   "source": [
    "**Conclusion**: There are no intersection of orders between prior and train table."
   ]
  },
  {
   "cell_type": "markdown",
   "metadata": {},
   "source": [
    "## 2.5. Validate the user_id matching in prior and train set"
   ]
  },
  {
   "cell_type": "code",
   "execution_count": 34,
   "metadata": {},
   "outputs": [
    {
     "data": {
      "text/html": [
       "<div>\n",
       "<style scoped>\n",
       "    .dataframe tbody tr th:only-of-type {\n",
       "        vertical-align: middle;\n",
       "    }\n",
       "\n",
       "    .dataframe tbody tr th {\n",
       "        vertical-align: top;\n",
       "    }\n",
       "\n",
       "    .dataframe thead th {\n",
       "        text-align: right;\n",
       "    }\n",
       "</style>\n",
       "<table border=\"1\" class=\"dataframe\">\n",
       "  <thead>\n",
       "    <tr style=\"text-align: right;\">\n",
       "      <th></th>\n",
       "      <th>eval_set</th>\n",
       "      <th>user_id</th>\n",
       "    </tr>\n",
       "  </thead>\n",
       "  <tbody>\n",
       "    <tr>\n",
       "      <th>0</th>\n",
       "      <td>prior</td>\n",
       "      <td>5000</td>\n",
       "    </tr>\n",
       "    <tr>\n",
       "      <th>1</th>\n",
       "      <td>train</td>\n",
       "      <td>5000</td>\n",
       "    </tr>\n",
       "  </tbody>\n",
       "</table>\n",
       "</div>"
      ],
      "text/plain": [
       "  eval_set  user_id\n",
       "0    prior     5000\n",
       "1    train     5000"
      ]
     },
     "execution_count": 34,
     "metadata": {},
     "output_type": "execute_result"
    }
   ],
   "source": [
    "orders.groupby(['eval_set'], as_index=False).agg(OrderedDict([('user_id','nunique')]))"
   ]
  },
  {
   "cell_type": "code",
   "execution_count": 35,
   "metadata": {},
   "outputs": [
    {
     "data": {
      "text/plain": [
       "True"
      ]
     },
     "execution_count": 35,
     "metadata": {},
     "output_type": "execute_result"
    }
   ],
   "source": [
    "set(orders[orders.eval_set=='prior']['user_id'])==set(orders[orders.eval_set=='train']['user_id'])"
   ]
  },
  {
   "cell_type": "markdown",
   "metadata": {},
   "source": [
    "**Conclusion**: All the users are the same between prior and train table.The number of unique users are 5000."
   ]
  },
  {
   "cell_type": "markdown",
   "metadata": {},
   "source": [
    "## 2.6. Validate order counts in the train dataset"
   ]
  },
  {
   "cell_type": "code",
   "execution_count": 36,
   "metadata": {},
   "outputs": [
    {
     "data": {
      "text/html": [
       "<div>\n",
       "<style scoped>\n",
       "    .dataframe tbody tr th:only-of-type {\n",
       "        vertical-align: middle;\n",
       "    }\n",
       "\n",
       "    .dataframe tbody tr th {\n",
       "        vertical-align: top;\n",
       "    }\n",
       "\n",
       "    .dataframe thead th {\n",
       "        text-align: right;\n",
       "    }\n",
       "</style>\n",
       "<table border=\"1\" class=\"dataframe\">\n",
       "  <thead>\n",
       "    <tr style=\"text-align: right;\">\n",
       "      <th></th>\n",
       "      <th>order_number</th>\n",
       "    </tr>\n",
       "    <tr>\n",
       "      <th>user_id</th>\n",
       "      <th></th>\n",
       "    </tr>\n",
       "  </thead>\n",
       "  <tbody>\n",
       "    <tr>\n",
       "      <th>50</th>\n",
       "      <td>1</td>\n",
       "    </tr>\n",
       "    <tr>\n",
       "      <th>135574</th>\n",
       "      <td>1</td>\n",
       "    </tr>\n",
       "    <tr>\n",
       "      <th>135956</th>\n",
       "      <td>1</td>\n",
       "    </tr>\n",
       "    <tr>\n",
       "      <th>135881</th>\n",
       "      <td>1</td>\n",
       "    </tr>\n",
       "    <tr>\n",
       "      <th>135743</th>\n",
       "      <td>1</td>\n",
       "    </tr>\n",
       "    <tr>\n",
       "      <th>...</th>\n",
       "      <td>...</td>\n",
       "    </tr>\n",
       "    <tr>\n",
       "      <th>67698</th>\n",
       "      <td>1</td>\n",
       "    </tr>\n",
       "    <tr>\n",
       "      <th>67691</th>\n",
       "      <td>1</td>\n",
       "    </tr>\n",
       "    <tr>\n",
       "      <th>67660</th>\n",
       "      <td>1</td>\n",
       "    </tr>\n",
       "    <tr>\n",
       "      <th>67640</th>\n",
       "      <td>1</td>\n",
       "    </tr>\n",
       "    <tr>\n",
       "      <th>206175</th>\n",
       "      <td>1</td>\n",
       "    </tr>\n",
       "  </tbody>\n",
       "</table>\n",
       "<p>5000 rows × 1 columns</p>\n",
       "</div>"
      ],
      "text/plain": [
       "         order_number\n",
       "user_id              \n",
       "50                  1\n",
       "135574              1\n",
       "135956              1\n",
       "135881              1\n",
       "135743              1\n",
       "...               ...\n",
       "67698               1\n",
       "67691               1\n",
       "67660               1\n",
       "67640               1\n",
       "206175              1\n",
       "\n",
       "[5000 rows x 1 columns]"
      ]
     },
     "execution_count": 36,
     "metadata": {},
     "output_type": "execute_result"
    }
   ],
   "source": [
    "orders[orders.eval_set == 'train'].groupby('user_id').agg(OrderedDict([('order_number','count')])).sort_values(by=['order_number'],ascending=False)"
   ]
  },
  {
   "cell_type": "markdown",
   "metadata": {},
   "source": [
    "**Conclusion**: We can see that EACH user only have ONE order in training data."
   ]
  },
  {
   "cell_type": "markdown",
   "metadata": {},
   "source": [
    "## 2.7. Validate the relative order of order_num in prior and train dataset"
   ]
  },
  {
   "cell_type": "code",
   "execution_count": 37,
   "metadata": {},
   "outputs": [],
   "source": [
    "df_prior_order_max = orders[orders.eval_set == 'prior'].groupby('user_id').agg(OrderedDict([('order_number','max')]))"
   ]
  },
  {
   "cell_type": "code",
   "execution_count": 38,
   "metadata": {},
   "outputs": [],
   "source": [
    "df_train_order_min = orders[orders.eval_set == 'train'].groupby('user_id').agg(OrderedDict([('order_number','min')]))"
   ]
  },
  {
   "cell_type": "code",
   "execution_count": 39,
   "metadata": {},
   "outputs": [
    {
     "data": {
      "text/plain": [
       "-1    5000\n",
       "Name: diff, dtype: int64"
      ]
     },
     "execution_count": 39,
     "metadata": {},
     "output_type": "execute_result"
    }
   ],
   "source": [
    "user_order_num = pd.merge(df_prior_order_max,df_train_order_min,on=['user_id'])\n",
    "user_order_num['diff']=user_order_num['order_number_x']-user_order_num['order_number_y']\n",
    "user_order_num['diff'].value_counts()"
   ]
  },
  {
   "cell_type": "markdown",
   "metadata": {},
   "source": [
    "**Conclusion**:The order_number in prior data are all smaller than the number from training data for the same user."
   ]
  },
  {
   "cell_type": "markdown",
   "metadata": {},
   "source": [
    "# 3. Construct Model Label"
   ]
  },
  {
   "cell_type": "markdown",
   "metadata": {},
   "source": [
    "标签是已经复购，预测是未来复购，因此标签也应从未来得到，而不是从过去得到。因此eval_set = train 的部分不能被纳入training，因为我们不知道这些产品未来是否被再次购买。而prior里的产品可以知道未来是否被再次购买，因为有train的信息，而train发生在prior 之后。reordered标记为0的意味着之前没有买过，但它可能在train表里被购买。也算有复购，因此不能直接用reordered这一列作为label。"
   ]
  },
  {
   "cell_type": "code",
   "execution_count": 40,
   "metadata": {},
   "outputs": [],
   "source": [
    "train_details = order_products_train.merge(orders, on = 'order_id')\n",
    "prior_details = order_products_prior.merge(orders, on = 'order_id')\n",
    "train_unique_key = train_details['user_id'].astype('str') + '_' + train_details['product_id'].astype('str')"
   ]
  },
  {
   "cell_type": "code",
   "execution_count": 41,
   "metadata": {},
   "outputs": [],
   "source": [
    "model_all_data = prior_details[['user_id','product_id','order_number', 'order_dow', 'order_hour_of_day', 'days_since_prior_order']] # ]] #为什么要后面这几列？\n",
    "# 由于同一个user在不同order里可能有相同的产品，因此需要去重\n",
    "model_all_data = model_all_data.drop_duplicates(subset=['user_id', 'product_id'])\n",
    "model_all_data['unique_key'] = model_all_data['user_id'].astype('str') + '_' + model_all_data['product_id'].astype('str')\n",
    "model_all_data['label'] = 0\n",
    "model_all_data.loc[model_all_data['unique_key'].isin(train_unique_key),'label'] = 1"
   ]
  },
  {
   "cell_type": "code",
   "execution_count": 42,
   "metadata": {},
   "outputs": [
    {
     "data": {
      "text/html": [
       "<div>\n",
       "<style scoped>\n",
       "    .dataframe tbody tr th:only-of-type {\n",
       "        vertical-align: middle;\n",
       "    }\n",
       "\n",
       "    .dataframe tbody tr th {\n",
       "        vertical-align: top;\n",
       "    }\n",
       "\n",
       "    .dataframe thead th {\n",
       "        text-align: right;\n",
       "    }\n",
       "</style>\n",
       "<table border=\"1\" class=\"dataframe\">\n",
       "  <thead>\n",
       "    <tr style=\"text-align: right;\">\n",
       "      <th></th>\n",
       "      <th>user_id</th>\n",
       "      <th>product_id</th>\n",
       "      <th>order_number</th>\n",
       "      <th>order_dow</th>\n",
       "      <th>order_hour_of_day</th>\n",
       "      <th>days_since_prior_order</th>\n",
       "      <th>unique_key</th>\n",
       "      <th>label</th>\n",
       "    </tr>\n",
       "  </thead>\n",
       "  <tbody>\n",
       "    <tr>\n",
       "      <th>0</th>\n",
       "      <td>152610</td>\n",
       "      <td>30597</td>\n",
       "      <td>22</td>\n",
       "      <td>6</td>\n",
       "      <td>8</td>\n",
       "      <td>10.0</td>\n",
       "      <td>152610_30597</td>\n",
       "      <td>0</td>\n",
       "    </tr>\n",
       "    <tr>\n",
       "      <th>1</th>\n",
       "      <td>152610</td>\n",
       "      <td>15221</td>\n",
       "      <td>22</td>\n",
       "      <td>6</td>\n",
       "      <td>8</td>\n",
       "      <td>10.0</td>\n",
       "      <td>152610_15221</td>\n",
       "      <td>0</td>\n",
       "    </tr>\n",
       "    <tr>\n",
       "      <th>2</th>\n",
       "      <td>152610</td>\n",
       "      <td>43772</td>\n",
       "      <td>22</td>\n",
       "      <td>6</td>\n",
       "      <td>8</td>\n",
       "      <td>10.0</td>\n",
       "      <td>152610_43772</td>\n",
       "      <td>0</td>\n",
       "    </tr>\n",
       "    <tr>\n",
       "      <th>3</th>\n",
       "      <td>152610</td>\n",
       "      <td>37886</td>\n",
       "      <td>22</td>\n",
       "      <td>6</td>\n",
       "      <td>8</td>\n",
       "      <td>10.0</td>\n",
       "      <td>152610_37886</td>\n",
       "      <td>0</td>\n",
       "    </tr>\n",
       "    <tr>\n",
       "      <th>4</th>\n",
       "      <td>152610</td>\n",
       "      <td>37215</td>\n",
       "      <td>22</td>\n",
       "      <td>6</td>\n",
       "      <td>8</td>\n",
       "      <td>10.0</td>\n",
       "      <td>152610_37215</td>\n",
       "      <td>0</td>\n",
       "    </tr>\n",
       "  </tbody>\n",
       "</table>\n",
       "</div>"
      ],
      "text/plain": [
       "   user_id  product_id  order_number  order_dow  order_hour_of_day  \\\n",
       "0   152610       30597            22          6                  8   \n",
       "1   152610       15221            22          6                  8   \n",
       "2   152610       43772            22          6                  8   \n",
       "3   152610       37886            22          6                  8   \n",
       "4   152610       37215            22          6                  8   \n",
       "\n",
       "   days_since_prior_order    unique_key  label  \n",
       "0                    10.0  152610_30597      0  \n",
       "1                    10.0  152610_15221      0  \n",
       "2                    10.0  152610_43772      0  \n",
       "3                    10.0  152610_37886      0  \n",
       "4                    10.0  152610_37215      0  "
      ]
     },
     "execution_count": 42,
     "metadata": {},
     "output_type": "execute_result"
    }
   ],
   "source": [
    "model_all_data.head()"
   ]
  },
  {
   "cell_type": "markdown",
   "metadata": {},
   "source": [
    "# 4. Construct Model features\n",
    "## 4.1 Feature Group 1: user-product activity features"
   ]
  },
  {
   "cell_type": "code",
   "execution_count": 43,
   "metadata": {},
   "outputs": [],
   "source": [
    "user_product_features = ['user_product__total_orders'\n",
    "                         ,'user_product__add_to_cart_order_mean'\n",
    "                         ,'user_product__reordered_mean'\n",
    "                         ,'user_product__most_dow'\n",
    "                         ,'user_product__most_hod']"
   ]
  },
  {
   "cell_type": "code",
   "execution_count": 44,
   "metadata": {},
   "outputs": [],
   "source": [
    "df_user_product_features = (prior_details.groupby(['product_id','user_id'],as_index=False).agg(OrderedDict(\n",
    "                                [('order_id','count'), # order frequency\n",
    "                                 ('add_to_cart_order','mean'), # the order of adding to cart\n",
    "                                 ('reordered','mean'), # the reorder rate of the product for a certain user\n",
    "                                 ('order_dow',(lambda x: x.mode()[0])), # most frequent purchase day of week\n",
    "                                 ('order_hour_of_day',(lambda x: x.mode()[0])), # most frequent purchase hour of day\n",
    "                                ])))"
   ]
  },
  {
   "cell_type": "code",
   "execution_count": 45,
   "metadata": {},
   "outputs": [
    {
     "data": {
      "text/html": [
       "<div>\n",
       "<style scoped>\n",
       "    .dataframe tbody tr th:only-of-type {\n",
       "        vertical-align: middle;\n",
       "    }\n",
       "\n",
       "    .dataframe tbody tr th {\n",
       "        vertical-align: top;\n",
       "    }\n",
       "\n",
       "    .dataframe thead th {\n",
       "        text-align: right;\n",
       "    }\n",
       "</style>\n",
       "<table border=\"1\" class=\"dataframe\">\n",
       "  <thead>\n",
       "    <tr style=\"text-align: right;\">\n",
       "      <th></th>\n",
       "      <th>user_id</th>\n",
       "      <th>product_id</th>\n",
       "      <th>order_number</th>\n",
       "      <th>order_dow</th>\n",
       "      <th>order_hour_of_day</th>\n",
       "      <th>days_since_prior_order</th>\n",
       "      <th>unique_key</th>\n",
       "      <th>label</th>\n",
       "      <th>user_product__total_orders</th>\n",
       "      <th>user_product__add_to_cart_order_mean</th>\n",
       "      <th>user_product__reordered_mean</th>\n",
       "      <th>user_product__most_dow</th>\n",
       "      <th>user_product__most_hod</th>\n",
       "    </tr>\n",
       "  </thead>\n",
       "  <tbody>\n",
       "    <tr>\n",
       "      <th>0</th>\n",
       "      <td>152610</td>\n",
       "      <td>30597</td>\n",
       "      <td>22</td>\n",
       "      <td>6</td>\n",
       "      <td>8</td>\n",
       "      <td>10.0</td>\n",
       "      <td>152610_30597</td>\n",
       "      <td>0</td>\n",
       "      <td>5</td>\n",
       "      <td>2.00</td>\n",
       "      <td>0.800</td>\n",
       "      <td>6</td>\n",
       "      <td>13</td>\n",
       "    </tr>\n",
       "    <tr>\n",
       "      <th>1</th>\n",
       "      <td>152610</td>\n",
       "      <td>15221</td>\n",
       "      <td>22</td>\n",
       "      <td>6</td>\n",
       "      <td>8</td>\n",
       "      <td>10.0</td>\n",
       "      <td>152610_15221</td>\n",
       "      <td>0</td>\n",
       "      <td>8</td>\n",
       "      <td>8.25</td>\n",
       "      <td>0.875</td>\n",
       "      <td>4</td>\n",
       "      <td>9</td>\n",
       "    </tr>\n",
       "    <tr>\n",
       "      <th>2</th>\n",
       "      <td>152610</td>\n",
       "      <td>43772</td>\n",
       "      <td>22</td>\n",
       "      <td>6</td>\n",
       "      <td>8</td>\n",
       "      <td>10.0</td>\n",
       "      <td>152610_43772</td>\n",
       "      <td>0</td>\n",
       "      <td>2</td>\n",
       "      <td>3.00</td>\n",
       "      <td>0.500</td>\n",
       "      <td>5</td>\n",
       "      <td>8</td>\n",
       "    </tr>\n",
       "    <tr>\n",
       "      <th>3</th>\n",
       "      <td>152610</td>\n",
       "      <td>37886</td>\n",
       "      <td>22</td>\n",
       "      <td>6</td>\n",
       "      <td>8</td>\n",
       "      <td>10.0</td>\n",
       "      <td>152610_37886</td>\n",
       "      <td>0</td>\n",
       "      <td>2</td>\n",
       "      <td>3.50</td>\n",
       "      <td>0.500</td>\n",
       "      <td>6</td>\n",
       "      <td>8</td>\n",
       "    </tr>\n",
       "    <tr>\n",
       "      <th>4</th>\n",
       "      <td>152610</td>\n",
       "      <td>37215</td>\n",
       "      <td>22</td>\n",
       "      <td>6</td>\n",
       "      <td>8</td>\n",
       "      <td>10.0</td>\n",
       "      <td>152610_37215</td>\n",
       "      <td>0</td>\n",
       "      <td>1</td>\n",
       "      <td>5.00</td>\n",
       "      <td>0.000</td>\n",
       "      <td>6</td>\n",
       "      <td>8</td>\n",
       "    </tr>\n",
       "    <tr>\n",
       "      <th>...</th>\n",
       "      <td>...</td>\n",
       "      <td>...</td>\n",
       "      <td>...</td>\n",
       "      <td>...</td>\n",
       "      <td>...</td>\n",
       "      <td>...</td>\n",
       "      <td>...</td>\n",
       "      <td>...</td>\n",
       "      <td>...</td>\n",
       "      <td>...</td>\n",
       "      <td>...</td>\n",
       "      <td>...</td>\n",
       "      <td>...</td>\n",
       "    </tr>\n",
       "    <tr>\n",
       "      <th>329801</th>\n",
       "      <td>189570</td>\n",
       "      <td>315</td>\n",
       "      <td>9</td>\n",
       "      <td>0</td>\n",
       "      <td>9</td>\n",
       "      <td>9.0</td>\n",
       "      <td>189570_315</td>\n",
       "      <td>0</td>\n",
       "      <td>1</td>\n",
       "      <td>11.00</td>\n",
       "      <td>0.000</td>\n",
       "      <td>0</td>\n",
       "      <td>9</td>\n",
       "    </tr>\n",
       "    <tr>\n",
       "      <th>329802</th>\n",
       "      <td>189570</td>\n",
       "      <td>42828</td>\n",
       "      <td>9</td>\n",
       "      <td>0</td>\n",
       "      <td>9</td>\n",
       "      <td>9.0</td>\n",
       "      <td>189570_42828</td>\n",
       "      <td>0</td>\n",
       "      <td>1</td>\n",
       "      <td>15.00</td>\n",
       "      <td>0.000</td>\n",
       "      <td>0</td>\n",
       "      <td>9</td>\n",
       "    </tr>\n",
       "    <tr>\n",
       "      <th>329803</th>\n",
       "      <td>189570</td>\n",
       "      <td>46666</td>\n",
       "      <td>9</td>\n",
       "      <td>0</td>\n",
       "      <td>9</td>\n",
       "      <td>9.0</td>\n",
       "      <td>189570_46666</td>\n",
       "      <td>0</td>\n",
       "      <td>1</td>\n",
       "      <td>16.00</td>\n",
       "      <td>0.000</td>\n",
       "      <td>0</td>\n",
       "      <td>9</td>\n",
       "    </tr>\n",
       "    <tr>\n",
       "      <th>329804</th>\n",
       "      <td>186579</td>\n",
       "      <td>29418</td>\n",
       "      <td>26</td>\n",
       "      <td>6</td>\n",
       "      <td>17</td>\n",
       "      <td>21.0</td>\n",
       "      <td>186579_29418</td>\n",
       "      <td>0</td>\n",
       "      <td>1</td>\n",
       "      <td>7.00</td>\n",
       "      <td>0.000</td>\n",
       "      <td>6</td>\n",
       "      <td>17</td>\n",
       "    </tr>\n",
       "    <tr>\n",
       "      <th>329805</th>\n",
       "      <td>186579</td>\n",
       "      <td>13852</td>\n",
       "      <td>26</td>\n",
       "      <td>6</td>\n",
       "      <td>17</td>\n",
       "      <td>21.0</td>\n",
       "      <td>186579_13852</td>\n",
       "      <td>0</td>\n",
       "      <td>1</td>\n",
       "      <td>10.00</td>\n",
       "      <td>0.000</td>\n",
       "      <td>6</td>\n",
       "      <td>17</td>\n",
       "    </tr>\n",
       "  </tbody>\n",
       "</table>\n",
       "<p>329806 rows × 13 columns</p>\n",
       "</div>"
      ],
      "text/plain": [
       "        user_id  product_id  order_number  order_dow  order_hour_of_day  \\\n",
       "0        152610       30597            22          6                  8   \n",
       "1        152610       15221            22          6                  8   \n",
       "2        152610       43772            22          6                  8   \n",
       "3        152610       37886            22          6                  8   \n",
       "4        152610       37215            22          6                  8   \n",
       "...         ...         ...           ...        ...                ...   \n",
       "329801   189570         315             9          0                  9   \n",
       "329802   189570       42828             9          0                  9   \n",
       "329803   189570       46666             9          0                  9   \n",
       "329804   186579       29418            26          6                 17   \n",
       "329805   186579       13852            26          6                 17   \n",
       "\n",
       "        days_since_prior_order    unique_key  label  \\\n",
       "0                         10.0  152610_30597      0   \n",
       "1                         10.0  152610_15221      0   \n",
       "2                         10.0  152610_43772      0   \n",
       "3                         10.0  152610_37886      0   \n",
       "4                         10.0  152610_37215      0   \n",
       "...                        ...           ...    ...   \n",
       "329801                     9.0    189570_315      0   \n",
       "329802                     9.0  189570_42828      0   \n",
       "329803                     9.0  189570_46666      0   \n",
       "329804                    21.0  186579_29418      0   \n",
       "329805                    21.0  186579_13852      0   \n",
       "\n",
       "        user_product__total_orders  user_product__add_to_cart_order_mean  \\\n",
       "0                                5                                  2.00   \n",
       "1                                8                                  8.25   \n",
       "2                                2                                  3.00   \n",
       "3                                2                                  3.50   \n",
       "4                                1                                  5.00   \n",
       "...                            ...                                   ...   \n",
       "329801                           1                                 11.00   \n",
       "329802                           1                                 15.00   \n",
       "329803                           1                                 16.00   \n",
       "329804                           1                                  7.00   \n",
       "329805                           1                                 10.00   \n",
       "\n",
       "        user_product__reordered_mean  user_product__most_dow  \\\n",
       "0                              0.800                       6   \n",
       "1                              0.875                       4   \n",
       "2                              0.500                       5   \n",
       "3                              0.500                       6   \n",
       "4                              0.000                       6   \n",
       "...                              ...                     ...   \n",
       "329801                         0.000                       0   \n",
       "329802                         0.000                       0   \n",
       "329803                         0.000                       0   \n",
       "329804                         0.000                       6   \n",
       "329805                         0.000                       6   \n",
       "\n",
       "        user_product__most_hod  \n",
       "0                           13  \n",
       "1                            9  \n",
       "2                            8  \n",
       "3                            8  \n",
       "4                            8  \n",
       "...                        ...  \n",
       "329801                       9  \n",
       "329802                       9  \n",
       "329803                       9  \n",
       "329804                      17  \n",
       "329805                      17  \n",
       "\n",
       "[329806 rows x 13 columns]"
      ]
     },
     "execution_count": 45,
     "metadata": {},
     "output_type": "execute_result"
    }
   ],
   "source": [
    "df_user_product_features.columns=['product_id','user_id'] + user_product_features\n",
    "model_all_data = model_all_data.merge(df_user_product_features, on = ['user_id', 'product_id'])\n",
    "model_all_data"
   ]
  },
  {
   "cell_type": "markdown",
   "metadata": {},
   "source": [
    "## 4.2 Feature Group 2: product features"
   ]
  },
  {
   "cell_type": "code",
   "execution_count": 46,
   "metadata": {},
   "outputs": [],
   "source": [
    "# type 1: due to users' behavior;\n",
    "product_features = [\n",
    "    'product__total_orders',\n",
    "    'product__add_to_cart_order_mean',\n",
    "    'product__total_users',\n",
    "    'product__reordered_mean',\n",
    "    'product__most_dow',\n",
    "    'product__most_hod',\n",
    "    'product__days_since_prior_order_mean'\n",
    "]"
   ]
  },
  {
   "cell_type": "code",
   "execution_count": 47,
   "metadata": {},
   "outputs": [],
   "source": [
    "df_product_features = (prior_details.groupby(['product_id'],as_index=False)\n",
    "                       .agg(OrderedDict([\n",
    "                           ('order_id','nunique'), # purchases time by all users\n",
    "                           ('add_to_cart_order','mean'), # average order of the product being added to the cart\n",
    "                           ('user_id','nunique'), # purchased user\n",
    "                           ('reordered','mean'), # average reorder rate\n",
    "                           ('order_dow',(lambda x: x.mode()[0])), # most frequent day of week\n",
    "                           ('order_hour_of_day',(lambda x: x.mode()[0])), # most frequent hour of day\n",
    "                           ('days_since_prior_order','mean') # mean of the date that a product being purchased since prior order\n",
    "                       ])))\n",
    "df_product_features.columns = ['product_id'] + product_features\n",
    "model_all_data = model_all_data.merge(df_product_features, on = ['product_id'])"
   ]
  },
  {
   "cell_type": "code",
   "execution_count": 48,
   "metadata": {},
   "outputs": [],
   "source": [
    "# type 2: due to product itself\n",
    "model_all_data = model_all_data.merge(products[['product_id','aisle_id', 'department_id']], on = ['product_id'])"
   ]
  },
  {
   "cell_type": "code",
   "execution_count": 49,
   "metadata": {},
   "outputs": [
    {
     "data": {
      "text/html": [
       "<div>\n",
       "<style scoped>\n",
       "    .dataframe tbody tr th:only-of-type {\n",
       "        vertical-align: middle;\n",
       "    }\n",
       "\n",
       "    .dataframe tbody tr th {\n",
       "        vertical-align: top;\n",
       "    }\n",
       "\n",
       "    .dataframe thead th {\n",
       "        text-align: right;\n",
       "    }\n",
       "</style>\n",
       "<table border=\"1\" class=\"dataframe\">\n",
       "  <thead>\n",
       "    <tr style=\"text-align: right;\">\n",
       "      <th></th>\n",
       "      <th>user_id</th>\n",
       "      <th>product_id</th>\n",
       "      <th>order_number</th>\n",
       "      <th>order_dow</th>\n",
       "      <th>order_hour_of_day</th>\n",
       "      <th>days_since_prior_order</th>\n",
       "      <th>unique_key</th>\n",
       "      <th>label</th>\n",
       "      <th>user_product__total_orders</th>\n",
       "      <th>user_product__add_to_cart_order_mean</th>\n",
       "      <th>...</th>\n",
       "      <th>user_product__most_hod</th>\n",
       "      <th>product__total_orders</th>\n",
       "      <th>product__add_to_cart_order_mean</th>\n",
       "      <th>product__total_users</th>\n",
       "      <th>product__reordered_mean</th>\n",
       "      <th>product__most_dow</th>\n",
       "      <th>product__most_hod</th>\n",
       "      <th>product__days_since_prior_order_mean</th>\n",
       "      <th>product__aisle_id</th>\n",
       "      <th>product__department_id</th>\n",
       "    </tr>\n",
       "  </thead>\n",
       "  <tbody>\n",
       "    <tr>\n",
       "      <th>0</th>\n",
       "      <td>152610</td>\n",
       "      <td>30597</td>\n",
       "      <td>22</td>\n",
       "      <td>6</td>\n",
       "      <td>8</td>\n",
       "      <td>10.0</td>\n",
       "      <td>152610_30597</td>\n",
       "      <td>0</td>\n",
       "      <td>5</td>\n",
       "      <td>2.000000</td>\n",
       "      <td>...</td>\n",
       "      <td>13</td>\n",
       "      <td>85</td>\n",
       "      <td>4.2</td>\n",
       "      <td>23</td>\n",
       "      <td>0.729412</td>\n",
       "      <td>3</td>\n",
       "      <td>9</td>\n",
       "      <td>12.592593</td>\n",
       "      <td>53</td>\n",
       "      <td>16</td>\n",
       "    </tr>\n",
       "    <tr>\n",
       "      <th>1</th>\n",
       "      <td>112604</td>\n",
       "      <td>30597</td>\n",
       "      <td>15</td>\n",
       "      <td>3</td>\n",
       "      <td>10</td>\n",
       "      <td>1.0</td>\n",
       "      <td>112604_30597</td>\n",
       "      <td>0</td>\n",
       "      <td>5</td>\n",
       "      <td>3.800000</td>\n",
       "      <td>...</td>\n",
       "      <td>10</td>\n",
       "      <td>85</td>\n",
       "      <td>4.2</td>\n",
       "      <td>23</td>\n",
       "      <td>0.729412</td>\n",
       "      <td>3</td>\n",
       "      <td>9</td>\n",
       "      <td>12.592593</td>\n",
       "      <td>53</td>\n",
       "      <td>16</td>\n",
       "    </tr>\n",
       "    <tr>\n",
       "      <th>2</th>\n",
       "      <td>75304</td>\n",
       "      <td>30597</td>\n",
       "      <td>28</td>\n",
       "      <td>2</td>\n",
       "      <td>8</td>\n",
       "      <td>12.0</td>\n",
       "      <td>75304_30597</td>\n",
       "      <td>0</td>\n",
       "      <td>2</td>\n",
       "      <td>29.000000</td>\n",
       "      <td>...</td>\n",
       "      <td>8</td>\n",
       "      <td>85</td>\n",
       "      <td>4.2</td>\n",
       "      <td>23</td>\n",
       "      <td>0.729412</td>\n",
       "      <td>3</td>\n",
       "      <td>9</td>\n",
       "      <td>12.592593</td>\n",
       "      <td>53</td>\n",
       "      <td>16</td>\n",
       "    </tr>\n",
       "    <tr>\n",
       "      <th>3</th>\n",
       "      <td>22499</td>\n",
       "      <td>30597</td>\n",
       "      <td>20</td>\n",
       "      <td>4</td>\n",
       "      <td>9</td>\n",
       "      <td>30.0</td>\n",
       "      <td>22499_30597</td>\n",
       "      <td>1</td>\n",
       "      <td>18</td>\n",
       "      <td>2.722222</td>\n",
       "      <td>...</td>\n",
       "      <td>9</td>\n",
       "      <td>85</td>\n",
       "      <td>4.2</td>\n",
       "      <td>23</td>\n",
       "      <td>0.729412</td>\n",
       "      <td>3</td>\n",
       "      <td>9</td>\n",
       "      <td>12.592593</td>\n",
       "      <td>53</td>\n",
       "      <td>16</td>\n",
       "    </tr>\n",
       "    <tr>\n",
       "      <th>4</th>\n",
       "      <td>190626</td>\n",
       "      <td>30597</td>\n",
       "      <td>11</td>\n",
       "      <td>1</td>\n",
       "      <td>9</td>\n",
       "      <td>14.0</td>\n",
       "      <td>190626_30597</td>\n",
       "      <td>0</td>\n",
       "      <td>9</td>\n",
       "      <td>2.111111</td>\n",
       "      <td>...</td>\n",
       "      <td>9</td>\n",
       "      <td>85</td>\n",
       "      <td>4.2</td>\n",
       "      <td>23</td>\n",
       "      <td>0.729412</td>\n",
       "      <td>3</td>\n",
       "      <td>9</td>\n",
       "      <td>12.592593</td>\n",
       "      <td>53</td>\n",
       "      <td>16</td>\n",
       "    </tr>\n",
       "  </tbody>\n",
       "</table>\n",
       "<p>5 rows × 22 columns</p>\n",
       "</div>"
      ],
      "text/plain": [
       "   user_id  product_id  order_number  order_dow  order_hour_of_day  \\\n",
       "0   152610       30597            22          6                  8   \n",
       "1   112604       30597            15          3                 10   \n",
       "2    75304       30597            28          2                  8   \n",
       "3    22499       30597            20          4                  9   \n",
       "4   190626       30597            11          1                  9   \n",
       "\n",
       "   days_since_prior_order    unique_key  label  user_product__total_orders  \\\n",
       "0                    10.0  152610_30597      0                           5   \n",
       "1                     1.0  112604_30597      0                           5   \n",
       "2                    12.0   75304_30597      0                           2   \n",
       "3                    30.0   22499_30597      1                          18   \n",
       "4                    14.0  190626_30597      0                           9   \n",
       "\n",
       "   user_product__add_to_cart_order_mean  ...  user_product__most_hod  \\\n",
       "0                              2.000000  ...                      13   \n",
       "1                              3.800000  ...                      10   \n",
       "2                             29.000000  ...                       8   \n",
       "3                              2.722222  ...                       9   \n",
       "4                              2.111111  ...                       9   \n",
       "\n",
       "   product__total_orders  product__add_to_cart_order_mean  \\\n",
       "0                     85                              4.2   \n",
       "1                     85                              4.2   \n",
       "2                     85                              4.2   \n",
       "3                     85                              4.2   \n",
       "4                     85                              4.2   \n",
       "\n",
       "   product__total_users  product__reordered_mean  product__most_dow  \\\n",
       "0                    23                 0.729412                  3   \n",
       "1                    23                 0.729412                  3   \n",
       "2                    23                 0.729412                  3   \n",
       "3                    23                 0.729412                  3   \n",
       "4                    23                 0.729412                  3   \n",
       "\n",
       "   product__most_hod  product__days_since_prior_order_mean  product__aisle_id  \\\n",
       "0                  9                             12.592593                 53   \n",
       "1                  9                             12.592593                 53   \n",
       "2                  9                             12.592593                 53   \n",
       "3                  9                             12.592593                 53   \n",
       "4                  9                             12.592593                 53   \n",
       "\n",
       "   product__department_id  \n",
       "0                      16  \n",
       "1                      16  \n",
       "2                      16  \n",
       "3                      16  \n",
       "4                      16  \n",
       "\n",
       "[5 rows x 22 columns]"
      ]
     },
     "execution_count": 49,
     "metadata": {},
     "output_type": "execute_result"
    }
   ],
   "source": [
    "model_all_data.rename(columns={'aisle_id':'product__aisle_id','department_id':'product__department_id'},inplace=True)\n",
    "model_all_data.head()"
   ]
  },
  {
   "cell_type": "markdown",
   "metadata": {},
   "source": [
    "## 4.3 Feature Group 3: user features"
   ]
  },
  {
   "cell_type": "code",
   "execution_count": 50,
   "metadata": {},
   "outputs": [],
   "source": [
    "user_features = [\n",
    "    'user__order_count',\n",
    "    'user__product_count',\n",
    "    'user__days_since_prior_order_mean',\n",
    "    'user__reordered_mean',\n",
    "    'user__most_dow',\n",
    "    'user__most_hod',\n",
    "]"
   ]
  },
  {
   "cell_type": "code",
   "execution_count": 51,
   "metadata": {},
   "outputs": [],
   "source": [
    "df_user_features = (prior_details.groupby(['user_id'],as_index=False)\n",
    "                   .agg(OrderedDict([\n",
    "                       ('order_id','nunique'), # the number of orders placed per user\n",
    "                       ('product_id','count'), # the number of products purchased per user\n",
    "                       ('days_since_prior_order','mean'), # the average time between orders per user\n",
    "                       ('reordered','mean'), # the total reorder rate per user\n",
    "                       ('order_dow',(lambda x: x.mode()[0])), # most frequent purchase date of a week\n",
    "                       ('order_hour_of_day',(lambda x: x.mode()[0])), # most frequent purchase time of a day\n",
    "                   ])))\n",
    "df_user_features.columns=['user_id'] + user_features"
   ]
  },
  {
   "cell_type": "code",
   "execution_count": 52,
   "metadata": {},
   "outputs": [],
   "source": [
    "model_all_data = model_all_data.merge(df_user_features, on = ['user_id'])"
   ]
  },
  {
   "cell_type": "code",
   "execution_count": 53,
   "metadata": {},
   "outputs": [
    {
     "name": "stdout",
     "output_type": "stream",
     "text": [
      "Labels number of the training data:\n",
      " 0    297467\n",
      "1     32339\n",
      "Name: label, dtype: int64\n",
      "Shape of the training data: (329806, 28)\n"
     ]
    }
   ],
   "source": [
    "print('Labels number of the training data:\\n',model_all_data['label'].value_counts())\n",
    "print('Shape of the training data:',model_all_data.shape)"
   ]
  },
  {
   "cell_type": "markdown",
   "metadata": {},
   "source": [
    "# 5. Feature Data Analysis & Tranformation"
   ]
  },
  {
   "cell_type": "code",
   "execution_count": 55,
   "metadata": {},
   "outputs": [],
   "source": [
    "# reorder features and label\n",
    "unique_key = ['user_id', 'product_id']\n",
    "raw_features = ['user_product__total_orders',\n",
    "                'user_product__add_to_cart_order_mean',\n",
    "                'user_product__reordered_mean',\n",
    "                'user_product__most_dow',\n",
    "                'user_product__most_hod',\n",
    "                'product__total_orders',\n",
    "                'product__add_to_cart_order_mean',\n",
    "                'product__total_users',\n",
    "                'product__reordered_mean',\n",
    "                'product__most_dow',\n",
    "                'product__most_hod',\n",
    "                'product__days_since_prior_order_mean',\n",
    "                'user__order_count',\n",
    "                'user__product_count',\n",
    "                'user__days_since_prior_order_mean',\n",
    "                'user__reordered_mean',\n",
    "                'user__most_dow',\n",
    "                'user__most_hod',\n",
    "                'product__aisle_id',\n",
    "                'product__department_id',\n",
    "               ]\n",
    "label = ['label']"
   ]
  },
  {
   "cell_type": "code",
   "execution_count": 56,
   "metadata": {},
   "outputs": [
    {
     "data": {
      "text/html": [
       "<div>\n",
       "<style scoped>\n",
       "    .dataframe tbody tr th:only-of-type {\n",
       "        vertical-align: middle;\n",
       "    }\n",
       "\n",
       "    .dataframe tbody tr th {\n",
       "        vertical-align: top;\n",
       "    }\n",
       "\n",
       "    .dataframe thead th {\n",
       "        text-align: right;\n",
       "    }\n",
       "</style>\n",
       "<table border=\"1\" class=\"dataframe\">\n",
       "  <thead>\n",
       "    <tr style=\"text-align: right;\">\n",
       "      <th></th>\n",
       "      <th>user_id</th>\n",
       "      <th>product_id</th>\n",
       "      <th>user_product__total_orders</th>\n",
       "      <th>user_product__add_to_cart_order_mean</th>\n",
       "      <th>user_product__reordered_mean</th>\n",
       "      <th>user_product__most_dow</th>\n",
       "      <th>user_product__most_hod</th>\n",
       "      <th>product__total_orders</th>\n",
       "      <th>product__add_to_cart_order_mean</th>\n",
       "      <th>product__total_users</th>\n",
       "      <th>...</th>\n",
       "      <th>product__days_since_prior_order_mean</th>\n",
       "      <th>user__order_count</th>\n",
       "      <th>user__product_count</th>\n",
       "      <th>user__days_since_prior_order_mean</th>\n",
       "      <th>user__reordered_mean</th>\n",
       "      <th>user__most_dow</th>\n",
       "      <th>user__most_hod</th>\n",
       "      <th>product__aisle_id</th>\n",
       "      <th>product__department_id</th>\n",
       "      <th>label</th>\n",
       "    </tr>\n",
       "  </thead>\n",
       "  <tbody>\n",
       "    <tr>\n",
       "      <th>0</th>\n",
       "      <td>152610</td>\n",
       "      <td>30597</td>\n",
       "      <td>5</td>\n",
       "      <td>2.00</td>\n",
       "      <td>0.800</td>\n",
       "      <td>6</td>\n",
       "      <td>13</td>\n",
       "      <td>85</td>\n",
       "      <td>4.200000</td>\n",
       "      <td>23</td>\n",
       "      <td>...</td>\n",
       "      <td>12.592593</td>\n",
       "      <td>26</td>\n",
       "      <td>408</td>\n",
       "      <td>10.953804</td>\n",
       "      <td>0.375</td>\n",
       "      <td>6</td>\n",
       "      <td>12</td>\n",
       "      <td>53</td>\n",
       "      <td>16</td>\n",
       "      <td>0</td>\n",
       "    </tr>\n",
       "    <tr>\n",
       "      <th>1</th>\n",
       "      <td>152610</td>\n",
       "      <td>15221</td>\n",
       "      <td>8</td>\n",
       "      <td>8.25</td>\n",
       "      <td>0.875</td>\n",
       "      <td>4</td>\n",
       "      <td>9</td>\n",
       "      <td>30</td>\n",
       "      <td>7.033333</td>\n",
       "      <td>10</td>\n",
       "      <td>...</td>\n",
       "      <td>13.653846</td>\n",
       "      <td>26</td>\n",
       "      <td>408</td>\n",
       "      <td>10.953804</td>\n",
       "      <td>0.375</td>\n",
       "      <td>6</td>\n",
       "      <td>12</td>\n",
       "      <td>84</td>\n",
       "      <td>16</td>\n",
       "      <td>0</td>\n",
       "    </tr>\n",
       "    <tr>\n",
       "      <th>2</th>\n",
       "      <td>152610</td>\n",
       "      <td>43772</td>\n",
       "      <td>2</td>\n",
       "      <td>3.00</td>\n",
       "      <td>0.500</td>\n",
       "      <td>5</td>\n",
       "      <td>8</td>\n",
       "      <td>508</td>\n",
       "      <td>9.096457</td>\n",
       "      <td>171</td>\n",
       "      <td>...</td>\n",
       "      <td>12.008565</td>\n",
       "      <td>26</td>\n",
       "      <td>408</td>\n",
       "      <td>10.953804</td>\n",
       "      <td>0.375</td>\n",
       "      <td>6</td>\n",
       "      <td>12</td>\n",
       "      <td>83</td>\n",
       "      <td>4</td>\n",
       "      <td>0</td>\n",
       "    </tr>\n",
       "    <tr>\n",
       "      <th>3</th>\n",
       "      <td>152610</td>\n",
       "      <td>37886</td>\n",
       "      <td>2</td>\n",
       "      <td>3.50</td>\n",
       "      <td>0.500</td>\n",
       "      <td>6</td>\n",
       "      <td>8</td>\n",
       "      <td>49</td>\n",
       "      <td>11.204082</td>\n",
       "      <td>28</td>\n",
       "      <td>...</td>\n",
       "      <td>11.489362</td>\n",
       "      <td>26</td>\n",
       "      <td>408</td>\n",
       "      <td>10.953804</td>\n",
       "      <td>0.375</td>\n",
       "      <td>6</td>\n",
       "      <td>12</td>\n",
       "      <td>53</td>\n",
       "      <td>16</td>\n",
       "      <td>0</td>\n",
       "    </tr>\n",
       "    <tr>\n",
       "      <th>4</th>\n",
       "      <td>152610</td>\n",
       "      <td>37215</td>\n",
       "      <td>1</td>\n",
       "      <td>5.00</td>\n",
       "      <td>0.000</td>\n",
       "      <td>6</td>\n",
       "      <td>8</td>\n",
       "      <td>165</td>\n",
       "      <td>8.278788</td>\n",
       "      <td>61</td>\n",
       "      <td>...</td>\n",
       "      <td>11.490066</td>\n",
       "      <td>26</td>\n",
       "      <td>408</td>\n",
       "      <td>10.953804</td>\n",
       "      <td>0.375</td>\n",
       "      <td>6</td>\n",
       "      <td>12</td>\n",
       "      <td>98</td>\n",
       "      <td>7</td>\n",
       "      <td>0</td>\n",
       "    </tr>\n",
       "  </tbody>\n",
       "</table>\n",
       "<p>5 rows × 23 columns</p>\n",
       "</div>"
      ],
      "text/plain": [
       "   user_id  product_id  user_product__total_orders  \\\n",
       "0   152610       30597                           5   \n",
       "1   152610       15221                           8   \n",
       "2   152610       43772                           2   \n",
       "3   152610       37886                           2   \n",
       "4   152610       37215                           1   \n",
       "\n",
       "   user_product__add_to_cart_order_mean  user_product__reordered_mean  \\\n",
       "0                                  2.00                         0.800   \n",
       "1                                  8.25                         0.875   \n",
       "2                                  3.00                         0.500   \n",
       "3                                  3.50                         0.500   \n",
       "4                                  5.00                         0.000   \n",
       "\n",
       "   user_product__most_dow  user_product__most_hod  product__total_orders  \\\n",
       "0                       6                      13                     85   \n",
       "1                       4                       9                     30   \n",
       "2                       5                       8                    508   \n",
       "3                       6                       8                     49   \n",
       "4                       6                       8                    165   \n",
       "\n",
       "   product__add_to_cart_order_mean  product__total_users  ...  \\\n",
       "0                         4.200000                    23  ...   \n",
       "1                         7.033333                    10  ...   \n",
       "2                         9.096457                   171  ...   \n",
       "3                        11.204082                    28  ...   \n",
       "4                         8.278788                    61  ...   \n",
       "\n",
       "   product__days_since_prior_order_mean  user__order_count  \\\n",
       "0                             12.592593                 26   \n",
       "1                             13.653846                 26   \n",
       "2                             12.008565                 26   \n",
       "3                             11.489362                 26   \n",
       "4                             11.490066                 26   \n",
       "\n",
       "   user__product_count  user__days_since_prior_order_mean  \\\n",
       "0                  408                          10.953804   \n",
       "1                  408                          10.953804   \n",
       "2                  408                          10.953804   \n",
       "3                  408                          10.953804   \n",
       "4                  408                          10.953804   \n",
       "\n",
       "   user__reordered_mean  user__most_dow  user__most_hod  product__aisle_id  \\\n",
       "0                 0.375               6              12                 53   \n",
       "1                 0.375               6              12                 84   \n",
       "2                 0.375               6              12                 83   \n",
       "3                 0.375               6              12                 53   \n",
       "4                 0.375               6              12                 98   \n",
       "\n",
       "   product__department_id  label  \n",
       "0                      16      0  \n",
       "1                      16      0  \n",
       "2                       4      0  \n",
       "3                      16      0  \n",
       "4                       7      0  \n",
       "\n",
       "[5 rows x 23 columns]"
      ]
     },
     "execution_count": 56,
     "metadata": {},
     "output_type": "execute_result"
    }
   ],
   "source": [
    "model_all_data = model_all_data[unique_key + raw_features + label]\n",
    "model_all_data.head()"
   ]
  },
  {
   "cell_type": "markdown",
   "metadata": {},
   "source": [
    "## 5.1 Label Ratio"
   ]
  },
  {
   "cell_type": "code",
   "execution_count": 58,
   "metadata": {},
   "outputs": [
    {
     "data": {
      "image/png": "[encoded data removed]",
      "text/plain": [
       "<Figure size 432x288 with 1 Axes>"
      ]
     },
     "metadata": {
      "needs_background": "light"
     },
     "output_type": "display_data"
    }
   ],
   "source": [
    "label_count = model_all_data['label'].value_counts()\n",
    "ax = label_count.sort_values().plot(kind='barh',title='Labels Count')\n",
    "ax.grid(axis='x')"
   ]
  },
  {
   "cell_type": "markdown",
   "metadata": {},
   "source": [
    "## 2.2 Null value check"
   ]
  },
  {
   "cell_type": "code",
   "execution_count": 60,
   "metadata": {},
   "outputs": [
    {
     "data": {
      "text/plain": [
       "user_id                                   0\n",
       "product_id                                0\n",
       "user_product__total_orders                0\n",
       "user_product__add_to_cart_order_mean      0\n",
       "user_product__reordered_mean              0\n",
       "user_product__most_dow                    0\n",
       "user_product__most_hod                    0\n",
       "product__total_orders                     0\n",
       "product__add_to_cart_order_mean           0\n",
       "product__total_users                      0\n",
       "product__reordered_mean                   0\n",
       "product__most_dow                         0\n",
       "product__most_hod                         0\n",
       "product__days_since_prior_order_mean    726\n",
       "user__order_count                         0\n",
       "user__product_count                       0\n",
       "user__days_since_prior_order_mean         0\n",
       "user__reordered_mean                      0\n",
       "user__most_dow                            0\n",
       "user__most_hod                            0\n",
       "product__aisle_id                         0\n",
       "product__department_id                    0\n",
       "label                                     0\n",
       "dtype: int64"
      ]
     },
     "execution_count": 60,
     "metadata": {},
     "output_type": "execute_result"
    }
   ],
   "source": [
    "model_all_data.isna().sum()"
   ]
  },
  {
   "cell_type": "markdown",
   "metadata": {},
   "source": [
    "## 2.3 Categorical Feature Transformation"
   ]
  },
  {
   "cell_type": "code",
   "execution_count": 62,
   "metadata": {},
   "outputs": [],
   "source": [
    "# one-hot encoding for product__department_id\n",
    "model_all_data = pd.concat(\n",
    "    [model_all_data.drop('product__department_id',axis=1),\n",
    "     pd.get_dummies(model_all_data['product__department_id'],\n",
    "                    prefix='product__department_id_')],\n",
    "    axis = 1)"
   ]
  },
  {
   "cell_type": "markdown",
   "metadata": {},
   "source": [
    "# 6. Split Dataset to Train, Validation and Test"
   ]
  },
  {
   "cell_type": "code",
   "execution_count": 63,
   "metadata": {},
   "outputs": [],
   "source": [
    "# split all the data regarding user id, but not directly split all the data, as the prediction is conducted per user level\n",
    "test_user_ids = model_all_data.user_id.drop_duplicates().sample(frac=0.2)\n",
    "train_data = model_all_data[~model_all_data.user_id.isin(test_user_ids)]\n",
    "test_data = model_all_data[model_all_data.user_id.isin(test_user_ids)]"
   ]
  },
  {
   "cell_type": "code",
   "execution_count": 64,
   "metadata": {},
   "outputs": [
    {
     "name": "stdout",
     "output_type": "stream",
     "text": [
      "The shape of the whole dataset is (329806, 43)\n",
      "The shape of training data is (262421, 43)\n",
      "The shape of testing data is (67385, 43)\n"
     ]
    }
   ],
   "source": [
    "print('The shape of the whole dataset is',model_all_data.shape)\n",
    "print('The shape of training data is',train_data.shape)\n",
    "print('The shape of testing data is',test_data.shape)"
   ]
  },
  {
   "cell_type": "markdown",
   "metadata": {},
   "source": [
    "# 7. Model Selection with Cross Validation"
   ]
  },
  {
   "cell_type": "markdown",
   "metadata": {},
   "source": [
    "## 7.1 Model Selection with All features"
   ]
  },
  {
   "cell_type": "code",
   "execution_count": 65,
   "metadata": {},
   "outputs": [],
   "source": [
    "train_x = train_data.drop(['user_id','product_id','label'],axis=1)\n",
    "train_y = train_data['label']"
   ]
  },
  {
   "cell_type": "code",
   "execution_count": 66,
   "metadata": {},
   "outputs": [],
   "source": [
    "classifier = [\n",
    "    LogisticRegression(),\n",
    "    DecisionTreeClassifier(),\n",
    "    RandomForestClassifier(),\n",
    "    AdaBoostClassifier(),\n",
    "    GradientBoostingClassifier(),\n",
    "]"
   ]
  },
  {
   "cell_type": "code",
   "execution_count": null,
   "metadata": {},
   "outputs": [],
   "source": [
    "# feature engineering should be conducted along with cross validation\n"
   ]
  },
  {
   "cell_type": "code",
   "execution_count": null,
   "metadata": {},
   "outputs": [],
   "source": []
  },
  {
   "cell_type": "markdown",
   "metadata": {},
   "source": [
    "## 7.2 Feature Selection"
   ]
  },
  {
   "cell_type": "code",
   "execution_count": null,
   "metadata": {},
   "outputs": [],
   "source": []
  },
  {
   "cell_type": "code",
   "execution_count": null,
   "metadata": {},
   "outputs": [],
   "source": []
  },
  {
   "cell_type": "code",
   "execution_count": null,
   "metadata": {},
   "outputs": [],
   "source": []
  },
  {
   "cell_type": "code",
   "execution_count": null,
   "metadata": {},
   "outputs": [],
   "source": []
  },
  {
   "cell_type": "markdown",
   "metadata": {},
   "source": [
    "# 8. Hyper-parameter Tuning for GradientBoosting Classifier"
   ]
  },
  {
   "cell_type": "code",
   "execution_count": null,
   "metadata": {},
   "outputs": [],
   "source": []
  },
  {
   "cell_type": "code",
   "execution_count": null,
   "metadata": {},
   "outputs": [],
   "source": []
  },
  {
   "cell_type": "code",
   "execution_count": null,
   "metadata": {},
   "outputs": [],
   "source": []
  },
  {
   "cell_type": "code",
   "execution_count": null,
   "metadata": {},
   "outputs": [],
   "source": []
  },
  {
   "cell_type": "code",
   "execution_count": null,
   "metadata": {},
   "outputs": [],
   "source": []
  },
  {
   "cell_type": "code",
   "execution_count": null,
   "metadata": {},
   "outputs": [],
   "source": []
  },
  {
   "cell_type": "code",
   "execution_count": null,
   "metadata": {},
   "outputs": [],
   "source": []
  },
  {
   "cell_type": "code",
   "execution_count": null,
   "metadata": {},
   "outputs": [],
   "source": []
  },
  {
   "cell_type": "markdown",
   "metadata": {},
   "source": [
    "# 9. Train the Final Classifier"
   ]
  },
  {
   "cell_type": "code",
   "execution_count": null,
   "metadata": {},
   "outputs": [],
   "source": []
  },
  {
   "cell_type": "code",
   "execution_count": null,
   "metadata": {},
   "outputs": [],
   "source": []
  },
  {
   "cell_type": "code",
   "execution_count": null,
   "metadata": {},
   "outputs": [],
   "source": []
  },
  {
   "cell_type": "code",
   "execution_count": null,
   "metadata": {},
   "outputs": [],
   "source": []
  },
  {
   "cell_type": "code",
   "execution_count": null,
   "metadata": {},
   "outputs": [],
   "source": []
  },
  {
   "cell_type": "code",
   "execution_count": null,
   "metadata": {},
   "outputs": [],
   "source": []
  },
  {
   "cell_type": "markdown",
   "metadata": {},
   "source": [
    "# 10. Evaluate Model on Test Data"
   ]
  },
  {
   "cell_type": "code",
   "execution_count": null,
   "metadata": {},
   "outputs": [],
   "source": []
  },
  {
   "cell_type": "code",
   "execution_count": null,
   "metadata": {},
   "outputs": [],
   "source": []
  },
  {
   "cell_type": "code",
   "execution_count": null,
   "metadata": {},
   "outputs": [],
   "source": []
  },
  {
   "cell_type": "code",
   "execution_count": null,
   "metadata": {},
   "outputs": [],
   "source": []
  },
  {
   "cell_type": "code",
   "execution_count": null,
   "metadata": {},
   "outputs": [],
   "source": []
  }
 ],
 "metadata": {
  "kernelspec": {
   "display_name": "Python 3",
   "language": "python",
   "name": "python3"
  },
  "language_info": {
   "codemirror_mode": {
    "name": "ipython",
    "version": 3
   },
   "file_extension": ".py",
   "mimetype": "text/x-python",
   "name": "python",
   "nbconvert_exporter": "python",
   "pygments_lexer": "ipython3",
   "version": "3.8.3"
  }
 },
 "nbformat": 4,
 "nbformat_minor": 4
}
